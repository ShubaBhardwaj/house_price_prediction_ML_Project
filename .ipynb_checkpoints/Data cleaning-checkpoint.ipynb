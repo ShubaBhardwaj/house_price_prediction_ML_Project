{
 "cells": [
  {
   "cell_type": "code",
   "execution_count": 3,
   "id": "a85c5e6d-f321-4e6f-888d-b06c8810403a",
   "metadata": {},
   "outputs": [],
   "source": [
    "import pandas as pd\n",
    "import numpy as np\n",
    "import matplotlib.pyplot\n",
    "%matplotlib inline"
   ]
  },
  {
   "cell_type": "code",
   "execution_count": 4,
   "id": "4c889436-f342-4fbe-9009-7d475ef667fd",
   "metadata": {},
   "outputs": [],
   "source": [
    "df=pd.read_csv('train.csv')"
   ]
  },
  {
   "cell_type": "code",
   "execution_count": 5,
   "id": "62655494-059a-4182-b6f4-94d1060eebd8",
   "metadata": {},
   "outputs": [
    {
     "data": {
      "text/html": [
       "<div>\n",
       "<style scoped>\n",
       "    .dataframe tbody tr th:only-of-type {\n",
       "        vertical-align: middle;\n",
       "    }\n",
       "\n",
       "    .dataframe tbody tr th {\n",
       "        vertical-align: top;\n",
       "    }\n",
       "\n",
       "    .dataframe thead th {\n",
       "        text-align: right;\n",
       "    }\n",
       "</style>\n",
       "<table border=\"1\" class=\"dataframe\">\n",
       "  <thead>\n",
       "    <tr style=\"text-align: right;\">\n",
       "      <th></th>\n",
       "      <th>POSTED_BY</th>\n",
       "      <th>UNDER_CONSTRUCTION</th>\n",
       "      <th>RERA</th>\n",
       "      <th>BHK_NO.</th>\n",
       "      <th>BHK_OR_RK</th>\n",
       "      <th>SQUARE_FT</th>\n",
       "      <th>READY_TO_MOVE</th>\n",
       "      <th>RESALE</th>\n",
       "      <th>ADDRESS</th>\n",
       "      <th>LONGITUDE</th>\n",
       "      <th>LATITUDE</th>\n",
       "      <th>TARGET(PRICE_IN_LACS)</th>\n",
       "    </tr>\n",
       "  </thead>\n",
       "  <tbody>\n",
       "    <tr>\n",
       "      <th>0</th>\n",
       "      <td>Owner</td>\n",
       "      <td>0</td>\n",
       "      <td>0</td>\n",
       "      <td>2</td>\n",
       "      <td>BHK</td>\n",
       "      <td>1300.236407</td>\n",
       "      <td>1</td>\n",
       "      <td>1</td>\n",
       "      <td>Ksfc Layout,Bangalore</td>\n",
       "      <td>12.969910</td>\n",
       "      <td>77.597960</td>\n",
       "      <td>55.0</td>\n",
       "    </tr>\n",
       "    <tr>\n",
       "      <th>1</th>\n",
       "      <td>Dealer</td>\n",
       "      <td>0</td>\n",
       "      <td>0</td>\n",
       "      <td>2</td>\n",
       "      <td>BHK</td>\n",
       "      <td>1275.000000</td>\n",
       "      <td>1</td>\n",
       "      <td>1</td>\n",
       "      <td>Vishweshwara Nagar,Mysore</td>\n",
       "      <td>12.274538</td>\n",
       "      <td>76.644605</td>\n",
       "      <td>51.0</td>\n",
       "    </tr>\n",
       "    <tr>\n",
       "      <th>2</th>\n",
       "      <td>Owner</td>\n",
       "      <td>0</td>\n",
       "      <td>0</td>\n",
       "      <td>2</td>\n",
       "      <td>BHK</td>\n",
       "      <td>933.159722</td>\n",
       "      <td>1</td>\n",
       "      <td>1</td>\n",
       "      <td>Jigani,Bangalore</td>\n",
       "      <td>12.778033</td>\n",
       "      <td>77.632191</td>\n",
       "      <td>43.0</td>\n",
       "    </tr>\n",
       "    <tr>\n",
       "      <th>3</th>\n",
       "      <td>Owner</td>\n",
       "      <td>0</td>\n",
       "      <td>1</td>\n",
       "      <td>2</td>\n",
       "      <td>BHK</td>\n",
       "      <td>929.921143</td>\n",
       "      <td>1</td>\n",
       "      <td>1</td>\n",
       "      <td>Sector-1 Vaishali,Ghaziabad</td>\n",
       "      <td>28.642300</td>\n",
       "      <td>77.344500</td>\n",
       "      <td>62.5</td>\n",
       "    </tr>\n",
       "    <tr>\n",
       "      <th>4</th>\n",
       "      <td>Dealer</td>\n",
       "      <td>1</td>\n",
       "      <td>0</td>\n",
       "      <td>2</td>\n",
       "      <td>BHK</td>\n",
       "      <td>999.009247</td>\n",
       "      <td>0</td>\n",
       "      <td>1</td>\n",
       "      <td>New Town,Kolkata</td>\n",
       "      <td>22.592200</td>\n",
       "      <td>88.484911</td>\n",
       "      <td>60.5</td>\n",
       "    </tr>\n",
       "  </tbody>\n",
       "</table>\n",
       "</div>"
      ],
      "text/plain": [
       "  POSTED_BY  UNDER_CONSTRUCTION  RERA  BHK_NO. BHK_OR_RK    SQUARE_FT  \\\n",
       "0     Owner                   0     0        2       BHK  1300.236407   \n",
       "1    Dealer                   0     0        2       BHK  1275.000000   \n",
       "2     Owner                   0     0        2       BHK   933.159722   \n",
       "3     Owner                   0     1        2       BHK   929.921143   \n",
       "4    Dealer                   1     0        2       BHK   999.009247   \n",
       "\n",
       "   READY_TO_MOVE  RESALE                      ADDRESS  LONGITUDE   LATITUDE  \\\n",
       "0              1       1        Ksfc Layout,Bangalore  12.969910  77.597960   \n",
       "1              1       1    Vishweshwara Nagar,Mysore  12.274538  76.644605   \n",
       "2              1       1             Jigani,Bangalore  12.778033  77.632191   \n",
       "3              1       1  Sector-1 Vaishali,Ghaziabad  28.642300  77.344500   \n",
       "4              0       1             New Town,Kolkata  22.592200  88.484911   \n",
       "\n",
       "   TARGET(PRICE_IN_LACS)  \n",
       "0                   55.0  \n",
       "1                   51.0  \n",
       "2                   43.0  \n",
       "3                   62.5  \n",
       "4                   60.5  "
      ]
     },
     "execution_count": 5,
     "metadata": {},
     "output_type": "execute_result"
    }
   ],
   "source": [
    "df.head()"
   ]
  },
  {
   "cell_type": "code",
   "execution_count": 6,
   "id": "bd0f472f-95be-4f73-a3d2-3bd87005855e",
   "metadata": {},
   "outputs": [
    {
     "name": "stdout",
     "output_type": "stream",
     "text": [
      "<class 'pandas.core.frame.DataFrame'>\n",
      "RangeIndex: 29451 entries, 0 to 29450\n",
      "Data columns (total 12 columns):\n",
      " #   Column                 Non-Null Count  Dtype  \n",
      "---  ------                 --------------  -----  \n",
      " 0   POSTED_BY              29451 non-null  object \n",
      " 1   UNDER_CONSTRUCTION     29451 non-null  int64  \n",
      " 2   RERA                   29451 non-null  int64  \n",
      " 3   BHK_NO.                29451 non-null  int64  \n",
      " 4   BHK_OR_RK              29451 non-null  object \n",
      " 5   SQUARE_FT              29451 non-null  float64\n",
      " 6   READY_TO_MOVE          29451 non-null  int64  \n",
      " 7   RESALE                 29451 non-null  int64  \n",
      " 8   ADDRESS                29451 non-null  object \n",
      " 9   LONGITUDE              29451 non-null  float64\n",
      " 10  LATITUDE               29451 non-null  float64\n",
      " 11  TARGET(PRICE_IN_LACS)  29451 non-null  float64\n",
      "dtypes: float64(4), int64(5), object(3)\n",
      "memory usage: 2.7+ MB\n"
     ]
    }
   ],
   "source": [
    "df.info()"
   ]
  },
  {
   "cell_type": "code",
   "execution_count": 7,
   "id": "cbe57cce-f3a5-4d2b-b39a-d0162b01c506",
   "metadata": {},
   "outputs": [
    {
     "data": {
      "text/html": [
       "<div>\n",
       "<style scoped>\n",
       "    .dataframe tbody tr th:only-of-type {\n",
       "        vertical-align: middle;\n",
       "    }\n",
       "\n",
       "    .dataframe tbody tr th {\n",
       "        vertical-align: top;\n",
       "    }\n",
       "\n",
       "    .dataframe thead th {\n",
       "        text-align: right;\n",
       "    }\n",
       "</style>\n",
       "<table border=\"1\" class=\"dataframe\">\n",
       "  <thead>\n",
       "    <tr style=\"text-align: right;\">\n",
       "      <th></th>\n",
       "      <th>UNDER_CONSTRUCTION</th>\n",
       "      <th>RERA</th>\n",
       "      <th>BHK_NO.</th>\n",
       "      <th>SQUARE_FT</th>\n",
       "      <th>READY_TO_MOVE</th>\n",
       "      <th>RESALE</th>\n",
       "      <th>LONGITUDE</th>\n",
       "      <th>LATITUDE</th>\n",
       "      <th>TARGET(PRICE_IN_LACS)</th>\n",
       "    </tr>\n",
       "  </thead>\n",
       "  <tbody>\n",
       "    <tr>\n",
       "      <th>count</th>\n",
       "      <td>29451.000000</td>\n",
       "      <td>29451.000000</td>\n",
       "      <td>29451.000000</td>\n",
       "      <td>2.945100e+04</td>\n",
       "      <td>29451.000000</td>\n",
       "      <td>29451.000000</td>\n",
       "      <td>29451.000000</td>\n",
       "      <td>29451.000000</td>\n",
       "      <td>29451.000000</td>\n",
       "    </tr>\n",
       "    <tr>\n",
       "      <th>mean</th>\n",
       "      <td>0.179756</td>\n",
       "      <td>0.317918</td>\n",
       "      <td>2.392279</td>\n",
       "      <td>1.980217e+04</td>\n",
       "      <td>0.820244</td>\n",
       "      <td>0.929578</td>\n",
       "      <td>21.300255</td>\n",
       "      <td>76.837695</td>\n",
       "      <td>142.898746</td>\n",
       "    </tr>\n",
       "    <tr>\n",
       "      <th>std</th>\n",
       "      <td>0.383991</td>\n",
       "      <td>0.465675</td>\n",
       "      <td>0.879091</td>\n",
       "      <td>1.901335e+06</td>\n",
       "      <td>0.383991</td>\n",
       "      <td>0.255861</td>\n",
       "      <td>6.205306</td>\n",
       "      <td>10.557747</td>\n",
       "      <td>656.880713</td>\n",
       "    </tr>\n",
       "    <tr>\n",
       "      <th>min</th>\n",
       "      <td>0.000000</td>\n",
       "      <td>0.000000</td>\n",
       "      <td>1.000000</td>\n",
       "      <td>3.000000e+00</td>\n",
       "      <td>0.000000</td>\n",
       "      <td>0.000000</td>\n",
       "      <td>-37.713008</td>\n",
       "      <td>-121.761248</td>\n",
       "      <td>0.250000</td>\n",
       "    </tr>\n",
       "    <tr>\n",
       "      <th>25%</th>\n",
       "      <td>0.000000</td>\n",
       "      <td>0.000000</td>\n",
       "      <td>2.000000</td>\n",
       "      <td>9.000211e+02</td>\n",
       "      <td>1.000000</td>\n",
       "      <td>1.000000</td>\n",
       "      <td>18.452663</td>\n",
       "      <td>73.798100</td>\n",
       "      <td>38.000000</td>\n",
       "    </tr>\n",
       "    <tr>\n",
       "      <th>50%</th>\n",
       "      <td>0.000000</td>\n",
       "      <td>0.000000</td>\n",
       "      <td>2.000000</td>\n",
       "      <td>1.175057e+03</td>\n",
       "      <td>1.000000</td>\n",
       "      <td>1.000000</td>\n",
       "      <td>20.750000</td>\n",
       "      <td>77.324137</td>\n",
       "      <td>62.000000</td>\n",
       "    </tr>\n",
       "    <tr>\n",
       "      <th>75%</th>\n",
       "      <td>0.000000</td>\n",
       "      <td>1.000000</td>\n",
       "      <td>3.000000</td>\n",
       "      <td>1.550688e+03</td>\n",
       "      <td>1.000000</td>\n",
       "      <td>1.000000</td>\n",
       "      <td>26.900926</td>\n",
       "      <td>77.828740</td>\n",
       "      <td>100.000000</td>\n",
       "    </tr>\n",
       "    <tr>\n",
       "      <th>max</th>\n",
       "      <td>1.000000</td>\n",
       "      <td>1.000000</td>\n",
       "      <td>20.000000</td>\n",
       "      <td>2.545455e+08</td>\n",
       "      <td>1.000000</td>\n",
       "      <td>1.000000</td>\n",
       "      <td>59.912884</td>\n",
       "      <td>152.962676</td>\n",
       "      <td>30000.000000</td>\n",
       "    </tr>\n",
       "  </tbody>\n",
       "</table>\n",
       "</div>"
      ],
      "text/plain": [
       "       UNDER_CONSTRUCTION          RERA       BHK_NO.     SQUARE_FT  \\\n",
       "count        29451.000000  29451.000000  29451.000000  2.945100e+04   \n",
       "mean             0.179756      0.317918      2.392279  1.980217e+04   \n",
       "std              0.383991      0.465675      0.879091  1.901335e+06   \n",
       "min              0.000000      0.000000      1.000000  3.000000e+00   \n",
       "25%              0.000000      0.000000      2.000000  9.000211e+02   \n",
       "50%              0.000000      0.000000      2.000000  1.175057e+03   \n",
       "75%              0.000000      1.000000      3.000000  1.550688e+03   \n",
       "max              1.000000      1.000000     20.000000  2.545455e+08   \n",
       "\n",
       "       READY_TO_MOVE        RESALE     LONGITUDE      LATITUDE  \\\n",
       "count   29451.000000  29451.000000  29451.000000  29451.000000   \n",
       "mean        0.820244      0.929578     21.300255     76.837695   \n",
       "std         0.383991      0.255861      6.205306     10.557747   \n",
       "min         0.000000      0.000000    -37.713008   -121.761248   \n",
       "25%         1.000000      1.000000     18.452663     73.798100   \n",
       "50%         1.000000      1.000000     20.750000     77.324137   \n",
       "75%         1.000000      1.000000     26.900926     77.828740   \n",
       "max         1.000000      1.000000     59.912884    152.962676   \n",
       "\n",
       "       TARGET(PRICE_IN_LACS)  \n",
       "count           29451.000000  \n",
       "mean              142.898746  \n",
       "std               656.880713  \n",
       "min                 0.250000  \n",
       "25%                38.000000  \n",
       "50%                62.000000  \n",
       "75%               100.000000  \n",
       "max             30000.000000  "
      ]
     },
     "execution_count": 7,
     "metadata": {},
     "output_type": "execute_result"
    }
   ],
   "source": [
    "df.describe()"
   ]
  },
  {
   "cell_type": "code",
   "execution_count": 8,
   "id": "f9005854-0bb2-4852-aece-5ddaf1dbfa82",
   "metadata": {},
   "outputs": [
    {
     "data": {
      "text/plain": [
       "(29451, 12)"
      ]
     },
     "execution_count": 8,
     "metadata": {},
     "output_type": "execute_result"
    }
   ],
   "source": [
    "df.shape"
   ]
  },
  {
   "cell_type": "code",
   "execution_count": 9,
   "id": "099385b6-93bd-41f5-bcfe-94dd8e4d9dc6",
   "metadata": {},
   "outputs": [
    {
     "data": {
      "text/plain": [
       "POSTED_BY                0\n",
       "UNDER_CONSTRUCTION       0\n",
       "RERA                     0\n",
       "BHK_NO.                  0\n",
       "BHK_OR_RK                0\n",
       "SQUARE_FT                0\n",
       "READY_TO_MOVE            0\n",
       "RESALE                   0\n",
       "ADDRESS                  0\n",
       "LONGITUDE                0\n",
       "LATITUDE                 0\n",
       "TARGET(PRICE_IN_LACS)    0\n",
       "dtype: int64"
      ]
     },
     "execution_count": 9,
     "metadata": {},
     "output_type": "execute_result"
    }
   ],
   "source": [
    "## Missing value\n",
    "df.isnull().sum()"
   ]
  },
  {
   "cell_type": "code",
   "execution_count": 10,
   "id": "1b6c5ffe-bdef-4a87-b98e-a53bca71d58e",
   "metadata": {},
   "outputs": [
    {
     "data": {
      "text/html": [
       "<div>\n",
       "<style scoped>\n",
       "    .dataframe tbody tr th:only-of-type {\n",
       "        vertical-align: middle;\n",
       "    }\n",
       "\n",
       "    .dataframe tbody tr th {\n",
       "        vertical-align: top;\n",
       "    }\n",
       "\n",
       "    .dataframe thead th {\n",
       "        text-align: right;\n",
       "    }\n",
       "</style>\n",
       "<table border=\"1\" class=\"dataframe\">\n",
       "  <thead>\n",
       "    <tr style=\"text-align: right;\">\n",
       "      <th></th>\n",
       "      <th>POSTED_BY</th>\n",
       "      <th>UNDER_CONSTRUCTION</th>\n",
       "      <th>RERA</th>\n",
       "      <th>BHK_NO.</th>\n",
       "      <th>BHK_OR_RK</th>\n",
       "      <th>SQUARE_FT</th>\n",
       "      <th>READY_TO_MOVE</th>\n",
       "      <th>RESALE</th>\n",
       "      <th>ADDRESS</th>\n",
       "      <th>LONGITUDE</th>\n",
       "      <th>LATITUDE</th>\n",
       "      <th>TARGET(PRICE_IN_LACS)</th>\n",
       "    </tr>\n",
       "  </thead>\n",
       "  <tbody>\n",
       "    <tr>\n",
       "      <th>0</th>\n",
       "      <td>Owner</td>\n",
       "      <td>0</td>\n",
       "      <td>0</td>\n",
       "      <td>2</td>\n",
       "      <td>BHK</td>\n",
       "      <td>1300.236407</td>\n",
       "      <td>1</td>\n",
       "      <td>1</td>\n",
       "      <td>Ksfc Layout,Bangalore</td>\n",
       "      <td>12.969910</td>\n",
       "      <td>77.597960</td>\n",
       "      <td>55.0</td>\n",
       "    </tr>\n",
       "    <tr>\n",
       "      <th>1</th>\n",
       "      <td>Dealer</td>\n",
       "      <td>0</td>\n",
       "      <td>0</td>\n",
       "      <td>2</td>\n",
       "      <td>BHK</td>\n",
       "      <td>1275.000000</td>\n",
       "      <td>1</td>\n",
       "      <td>1</td>\n",
       "      <td>Vishweshwara Nagar,Mysore</td>\n",
       "      <td>12.274538</td>\n",
       "      <td>76.644605</td>\n",
       "      <td>51.0</td>\n",
       "    </tr>\n",
       "  </tbody>\n",
       "</table>\n",
       "</div>"
      ],
      "text/plain": [
       "  POSTED_BY  UNDER_CONSTRUCTION  RERA  BHK_NO. BHK_OR_RK    SQUARE_FT  \\\n",
       "0     Owner                   0     0        2       BHK  1300.236407   \n",
       "1    Dealer                   0     0        2       BHK  1275.000000   \n",
       "\n",
       "   READY_TO_MOVE  RESALE                    ADDRESS  LONGITUDE   LATITUDE  \\\n",
       "0              1       1      Ksfc Layout,Bangalore  12.969910  77.597960   \n",
       "1              1       1  Vishweshwara Nagar,Mysore  12.274538  76.644605   \n",
       "\n",
       "   TARGET(PRICE_IN_LACS)  \n",
       "0                   55.0  \n",
       "1                   51.0  "
      ]
     },
     "execution_count": 10,
     "metadata": {},
     "output_type": "execute_result"
    }
   ],
   "source": [
    "df.head(2)"
   ]
  },
  {
   "cell_type": "code",
   "execution_count": 11,
   "id": "7389ce04-ba63-450e-a3c1-001e864962ce",
   "metadata": {},
   "outputs": [
    {
     "data": {
      "text/plain": [
       "array([1300.236407 , 1275.       ,  933.1597222, ..., 1022.641509 ,\n",
       "        927.0790093,  896.7741935], shape=(19561,))"
      ]
     },
     "execution_count": 11,
     "metadata": {},
     "output_type": "execute_result"
    }
   ],
   "source": [
    "df['SQUARE_FT'].unique()"
   ]
  },
  {
   "cell_type": "code",
   "execution_count": 12,
   "id": "ec437759-e9f9-4fd7-8412-51c492ef7f3e",
   "metadata": {},
   "outputs": [
    {
     "data": {
      "text/plain": [
       "0        1300\n",
       "1        1275\n",
       "2         933\n",
       "3         929\n",
       "4         999\n",
       "         ... \n",
       "29446    2500\n",
       "29447     769\n",
       "29448    1022\n",
       "29449     927\n",
       "29450     896\n",
       "Name: SQUARE_FT, Length: 29451, dtype: int64"
      ]
     },
     "execution_count": 12,
     "metadata": {},
     "output_type": "execute_result"
    }
   ],
   "source": [
    "df['SQUARE_FT'].astype(int)"
   ]
  },
  {
   "cell_type": "code",
   "execution_count": 13,
   "id": "d492e8c8-1e37-4fac-a0d8-edb0bcab81a8",
   "metadata": {},
   "outputs": [],
   "source": [
    "##for float numbers we dont need to use str \n",
    "##df['SQUARE_FT'].astype(str).str.isnumeric().sum()"
   ]
  },
  {
   "cell_type": "code",
   "execution_count": 14,
   "id": "1aac8d54-25ec-4201-ab47-23736e16c3a5",
   "metadata": {},
   "outputs": [
    {
     "data": {
      "text/plain": [
       "np.int64(29451)"
      ]
     },
     "execution_count": 14,
     "metadata": {},
     "output_type": "execute_result"
    }
   ],
   "source": [
    "df['SQUARE_FT'].notna().sum()"
   ]
  },
  {
   "cell_type": "code",
   "execution_count": 15,
   "id": "650e87a8-5000-4fe7-85e3-8a19d166a36d",
   "metadata": {},
   "outputs": [
    {
     "data": {
      "text/plain": [
       "array([0, 1])"
      ]
     },
     "execution_count": 15,
     "metadata": {},
     "output_type": "execute_result"
    }
   ],
   "source": [
    "df['UNDER_CONSTRUCTION'].unique()"
   ]
  },
  {
   "cell_type": "code",
   "execution_count": 16,
   "id": "a08f7436-1690-4744-b194-a5d3d77dc929",
   "metadata": {},
   "outputs": [
    {
     "data": {
      "text/plain": [
       "array([0, 1])"
      ]
     },
     "execution_count": 16,
     "metadata": {},
     "output_type": "execute_result"
    }
   ],
   "source": [
    "df['RERA'].unique()"
   ]
  },
  {
   "cell_type": "code",
   "execution_count": 17,
   "id": "705876ff-3ffa-4cb1-b055-da571002eb00",
   "metadata": {},
   "outputs": [
    {
     "data": {
      "text/plain": [
       "array([ 2,  3,  1,  4,  5,  6, 12,  8, 20, 10,  7,  9, 13, 17, 15, 11])"
      ]
     },
     "execution_count": 17,
     "metadata": {},
     "output_type": "execute_result"
    }
   ],
   "source": [
    "df['BHK_NO.'].unique()"
   ]
  },
  {
   "cell_type": "code",
   "execution_count": 18,
   "id": "895e5a9e-7910-4a78-b7a2-d86df187de9b",
   "metadata": {},
   "outputs": [
    {
     "data": {
      "text/plain": [
       "np.int64(29451)"
      ]
     },
     "execution_count": 18,
     "metadata": {},
     "output_type": "execute_result"
    }
   ],
   "source": [
    "df['BHK_NO.'].astype(str).str.isnumeric().sum()\n"
   ]
  },
  {
   "cell_type": "code",
   "execution_count": 19,
   "id": "7686889a-ca2a-47c6-834f-e5d6e16bba6f",
   "metadata": {},
   "outputs": [
    {
     "data": {
      "text/plain": [
       "array(['BHK', 'RK'], dtype=object)"
      ]
     },
     "execution_count": 19,
     "metadata": {},
     "output_type": "execute_result"
    }
   ],
   "source": [
    "df['BHK_OR_RK'].unique()"
   ]
  },
  {
   "cell_type": "code",
   "execution_count": 20,
   "id": "adef98f3-4942-4d28-88d5-6e06adb862a3",
   "metadata": {},
   "outputs": [
    {
     "data": {
      "text/plain": [
       "0        BHK\n",
       "1        BHK\n",
       "2        BHK\n",
       "3        BHK\n",
       "4        BHK\n",
       "        ... \n",
       "29446    BHK\n",
       "29447    BHK\n",
       "29448    BHK\n",
       "29449    BHK\n",
       "29450    BHK\n",
       "Name: BHK_OR_RK, Length: 29451, dtype: object"
      ]
     },
     "execution_count": 20,
     "metadata": {},
     "output_type": "execute_result"
    }
   ],
   "source": [
    "df['BHK_OR_RK']"
   ]
  },
  {
   "cell_type": "code",
   "execution_count": 21,
   "id": "99685d7b-78a5-4b2a-b791-a7b0973018f2",
   "metadata": {},
   "outputs": [
    {
     "data": {
      "text/plain": [
       "np.int64(401)"
      ]
     },
     "execution_count": 21,
     "metadata": {},
     "output_type": "execute_result"
    }
   ],
   "source": [
    "df.duplicated().sum()\n"
   ]
  },
  {
   "cell_type": "code",
   "execution_count": 22,
   "id": "d4ff73ad-6926-447d-9575-a193fd8456af",
   "metadata": {},
   "outputs": [
    {
     "data": {
      "text/plain": [
       "POSTED_BY\n",
       "Dealer     18291\n",
       "Owner      10538\n",
       "Builder      622\n",
       "Name: count, dtype: int64"
      ]
     },
     "execution_count": 22,
     "metadata": {},
     "output_type": "execute_result"
    }
   ],
   "source": [
    "df['POSTED_BY'].unique()\n",
    "df['POSTED_BY'].value_counts()"
   ]
  },
  {
   "cell_type": "code",
   "execution_count": 23,
   "id": "cc1e7a6a-b76a-414c-9d11-d64984d7f7a4",
   "metadata": {},
   "outputs": [
    {
     "data": {
      "text/plain": [
       "BHK_OR_RK\n",
       "BHK    29427\n",
       "RK        24\n",
       "Name: count, dtype: int64"
      ]
     },
     "execution_count": 23,
     "metadata": {},
     "output_type": "execute_result"
    }
   ],
   "source": [
    "df['BHK_OR_RK'].unique()\n",
    "df['BHK_OR_RK'].value_counts()\n"
   ]
  },
  {
   "cell_type": "code",
   "execution_count": 24,
   "id": "90490b33-7a59-4141-a8ee-94407d105bcc",
   "metadata": {},
   "outputs": [
    {
     "data": {
      "text/plain": [
       "count    2.945100e+04\n",
       "mean     1.980217e+04\n",
       "std      1.901335e+06\n",
       "min      3.000000e+00\n",
       "25%      9.000211e+02\n",
       "50%      1.175057e+03\n",
       "75%      1.550688e+03\n",
       "max      2.545455e+08\n",
       "Name: SQUARE_FT, dtype: float64"
      ]
     },
     "execution_count": 24,
     "metadata": {},
     "output_type": "execute_result"
    }
   ],
   "source": [
    "df['SQUARE_FT'].describe()"
   ]
  },
  {
   "cell_type": "code",
   "execution_count": 25,
   "id": "546c212f-e22e-4175-b623-571eb551ae3f",
   "metadata": {},
   "outputs": [
    {
     "data": {
      "text/plain": [
       "array([1, 0])"
      ]
     },
     "execution_count": 25,
     "metadata": {},
     "output_type": "execute_result"
    }
   ],
   "source": [
    "df['READY_TO_MOVE'].unique()"
   ]
  },
  {
   "cell_type": "code",
   "execution_count": 26,
   "id": "6fa5ba0e-94e5-407a-9c7a-7faf2eaa70b4",
   "metadata": {},
   "outputs": [
    {
     "data": {
      "text/plain": [
       "array([1, 0])"
      ]
     },
     "execution_count": 26,
     "metadata": {},
     "output_type": "execute_result"
    }
   ],
   "source": [
    "df['RESALE'].unique()"
   ]
  },
  {
   "cell_type": "code",
   "execution_count": 27,
   "id": "fa3908d4-5bd3-4c5c-ad60-6f0c3be9878e",
   "metadata": {},
   "outputs": [
    {
     "data": {
      "text/plain": [
       "ADDRESS\n",
       "Zirakpur,Chandigarh                   509\n",
       "Whitefield,Bangalore                  230\n",
       "Raj Nagar Extension,Ghaziabad         215\n",
       "Sector-137 Noida,Noida                139\n",
       "New Town,Kolkata                      131\n",
       "Jagatpura,Jaipur                      120\n",
       "Rajarhat,Kolkata                      113\n",
       "Thanisandra,Bangalore                 110\n",
       "Noida Extension,Noida                 107\n",
       "Baner,Pune                            101\n",
       "Sector 88 Faridabad,Faridabad         100\n",
       "Sector-75 Noida,Noida                  99\n",
       "Sector 86 Faridabad,Faridabad          97\n",
       "Ajmer Road,Jaipur                      96\n",
       "Sector-150 Noida,Noida                 94\n",
       "Sector-78 Noida,Noida                  91\n",
       "Sarjapur Road,Bangalore                89\n",
       "Electronics City Phase 1,Bangalore     87\n",
       "Hebbal,Bangalore                       82\n",
       "Kundli,Sonipat                         81\n",
       "Name: count, dtype: int64"
      ]
     },
     "execution_count": 27,
     "metadata": {},
     "output_type": "execute_result"
    }
   ],
   "source": [
    "df['ADDRESS'].value_counts().head(20)"
   ]
  },
  {
   "cell_type": "code",
   "execution_count": 28,
   "id": "202d1498-dd5d-4811-863b-3c418d7c69ec",
   "metadata": {},
   "outputs": [
    {
     "data": {
      "text/plain": [
       "count    29451.000000\n",
       "mean        21.300255\n",
       "std          6.205306\n",
       "min        -37.713008\n",
       "25%         18.452663\n",
       "50%         20.750000\n",
       "75%         26.900926\n",
       "max         59.912884\n",
       "Name: LONGITUDE, dtype: float64"
      ]
     },
     "execution_count": 28,
     "metadata": {},
     "output_type": "execute_result"
    }
   ],
   "source": [
    "df['LONGITUDE'].describe()"
   ]
  },
  {
   "cell_type": "code",
   "execution_count": 29,
   "id": "ca202e15-2308-4c90-83c8-da60c3b452c4",
   "metadata": {},
   "outputs": [
    {
     "data": {
      "text/plain": [
       "count    29451.000000\n",
       "mean        76.837695\n",
       "std         10.557747\n",
       "min       -121.761248\n",
       "25%         73.798100\n",
       "50%         77.324137\n",
       "75%         77.828740\n",
       "max        152.962676\n",
       "Name: LATITUDE, dtype: float64"
      ]
     },
     "execution_count": 29,
     "metadata": {},
     "output_type": "execute_result"
    }
   ],
   "source": [
    "df['LATITUDE'].describe()"
   ]
  },
  {
   "cell_type": "code",
   "execution_count": 30,
   "id": "de34419e-bb63-45cf-8232-6bacb030a34c",
   "metadata": {},
   "outputs": [
    {
     "data": {
      "text/plain": [
       "count    29451.000000\n",
       "mean       142.898746\n",
       "std        656.880713\n",
       "min          0.250000\n",
       "25%         38.000000\n",
       "50%         62.000000\n",
       "75%        100.000000\n",
       "max      30000.000000\n",
       "Name: TARGET(PRICE_IN_LACS), dtype: float64"
      ]
     },
     "execution_count": 30,
     "metadata": {},
     "output_type": "execute_result"
    }
   ],
   "source": [
    "df['TARGET(PRICE_IN_LACS)'].describe()"
   ]
  },
  {
   "cell_type": "code",
   "execution_count": 31,
   "id": "fe5789a4-6677-4a3f-865f-35fa9425598e",
   "metadata": {},
   "outputs": [],
   "source": [
    "duplicates = df[df.duplicated()]"
   ]
  },
  {
   "cell_type": "code",
   "execution_count": 32,
   "id": "d32163a9-c504-4359-84d5-53432b5c1443",
   "metadata": {},
   "outputs": [
    {
     "name": "stdout",
     "output_type": "stream",
     "text": [
      "      POSTED_BY  UNDER_CONSTRUCTION  RERA  BHK_NO. BHK_OR_RK    SQUARE_FT  \\\n",
      "1904     Dealer                   1     0        3       BHK  1209.628644   \n",
      "2351     Dealer                   0     0        2       BHK   896.680112   \n",
      "2611     Dealer                   0     0        3       BHK  1350.256549   \n",
      "2618     Dealer                   1     0        2       BHK   800.000000   \n",
      "3211      Owner                   0     0        2       BHK   712.105799   \n",
      "...         ...                 ...   ...      ...       ...          ...   \n",
      "29321    Dealer                   0     1        1       BHK   649.641577   \n",
      "29345    Dealer                   1     1        3       BHK  1563.155686   \n",
      "29357     Owner                   0     1        3       BHK  1446.201311   \n",
      "29389   Builder                   1     0        3       BHK   979.290979   \n",
      "29410    Dealer                   1     0        1       BHK   650.022160   \n",
      "\n",
      "       READY_TO_MOVE  RESALE                        ADDRESS  LONGITUDE  \\\n",
      "1904               0       1              Salt Lake,Kolkata  22.541110   \n",
      "2351               1       1            Zirakpur,Chandigarh  30.662283   \n",
      "2611               1       1  Sector 78 Faridabad,Faridabad  28.380160   \n",
      "2618               0       1           Chandapura,Bangalore  12.800090   \n",
      "3211               1       1              BataNagar,Kolkata  22.506860   \n",
      "...              ...     ...                            ...        ...   \n",
      "29321              1       1            Zirakpur,Chandigarh  30.662283   \n",
      "29345              0       1        Sector-88 Mohali,Mohali  30.684523   \n",
      "29357              1       1          Sector-70 Noida,Noida  28.596320   \n",
      "29389              0       0                Barasat,Kolkata  22.747639   \n",
      "29410              0       1       Goregaon (West),Lalitpur  19.161955   \n",
      "\n",
      "        LATITUDE  TARGET(PRICE_IN_LACS)  \n",
      "1904   88.337780                  100.0  \n",
      "2351   76.822397                   28.9  \n",
      "2611   77.369936                   50.0  \n",
      "2618   77.711820                   27.0  \n",
      "3211   88.223965                   35.0  \n",
      "...          ...                    ...  \n",
      "29321  76.822397                   14.5  \n",
      "29345  76.691728                   74.5  \n",
      "29357  77.381430                   75.0  \n",
      "29389  88.600902                   27.9  \n",
      "29410  72.839616                   88.0  \n",
      "\n",
      "[401 rows x 12 columns]\n"
     ]
    }
   ],
   "source": [
    "print(duplicates)"
   ]
  },
  {
   "cell_type": "code",
   "execution_count": 33,
   "id": "67588a6b-cab5-4d47-8022-4b844918bd79",
   "metadata": {},
   "outputs": [
    {
     "name": "stdout",
     "output_type": "stream",
     "text": [
      "      POSTED_BY  UNDER_CONSTRUCTION  RERA  BHK_NO. BHK_OR_RK    SQUARE_FT  \\\n",
      "30       Dealer                   0     0        3       BHK  1400.107701   \n",
      "64        Owner                   0     0        3       BHK  1591.994542   \n",
      "83        Owner                   0     1        2       BHK  1150.086256   \n",
      "183      Dealer                   0     0        2       BHK  1192.000000   \n",
      "196      Dealer                   0     0        3       BHK  1575.157516   \n",
      "...         ...                 ...   ...      ...       ...          ...   \n",
      "29321    Dealer                   0     1        1       BHK   649.641577   \n",
      "29345    Dealer                   1     1        3       BHK  1563.155686   \n",
      "29357     Owner                   0     1        3       BHK  1446.201311   \n",
      "29389   Builder                   1     0        3       BHK   979.290979   \n",
      "29410    Dealer                   1     0        1       BHK   650.022160   \n",
      "\n",
      "       READY_TO_MOVE  RESALE                        ADDRESS  LONGITUDE  \\\n",
      "30                 1       1  Sector 84 Faridabad,Faridabad  28.404730   \n",
      "64                 1       1         Sector-137 Noida,Noida  28.506454   \n",
      "83                 1       1          Sector-74 Noida,Noida  28.577673   \n",
      "183                1       1          Nayapalli,Bhubaneswar  20.286571   \n",
      "196                1       1       Judges Enclave,Ghaziabad  28.666670   \n",
      "...              ...     ...                            ...        ...   \n",
      "29321              1       1            Zirakpur,Chandigarh  30.662283   \n",
      "29345              0       1        Sector-88 Mohali,Mohali  30.684523   \n",
      "29357              1       1          Sector-70 Noida,Noida  28.596320   \n",
      "29389              0       0                Barasat,Kolkata  22.747639   \n",
      "29410              0       1       Goregaon (West),Lalitpur  19.161955   \n",
      "\n",
      "        LATITUDE  TARGET(PRICE_IN_LACS)  \n",
      "30     77.367514                   52.0  \n",
      "64     77.409568                   70.0  \n",
      "83     77.389781                   60.0  \n",
      "183    85.810906                   59.6  \n",
      "196    77.416670                   70.0  \n",
      "...          ...                    ...  \n",
      "29321  76.822397                   14.5  \n",
      "29345  76.691728                   74.5  \n",
      "29357  77.381430                   75.0  \n",
      "29389  88.600902                   27.9  \n",
      "29410  72.839616                   88.0  \n",
      "\n",
      "[775 rows x 12 columns]\n"
     ]
    }
   ],
   "source": [
    "duplicates_all = df[df.duplicated(keep=False)]\n",
    "print(duplicates_all)"
   ]
  },
  {
   "cell_type": "code",
   "execution_count": 34,
   "id": "561af796-67c5-4715-8ec6-33ee360d2b61",
   "metadata": {},
   "outputs": [],
   "source": [
    "df = df.drop_duplicates()\n",
    "df = df.reset_index(drop=True)"
   ]
  },
  {
   "cell_type": "code",
   "execution_count": 35,
   "id": "72d6fdca-d0e6-42aa-9f3e-ebe90eebe391",
   "metadata": {},
   "outputs": [
    {
     "data": {
      "text/plain": [
       "np.int64(0)"
      ]
     },
     "execution_count": 35,
     "metadata": {},
     "output_type": "execute_result"
    }
   ],
   "source": [
    "df.duplicated().sum()"
   ]
  },
  {
   "cell_type": "code",
   "execution_count": 36,
   "id": "2f7c3178-88e7-4ca5-8b67-cac97ebeba4e",
   "metadata": {},
   "outputs": [
    {
     "data": {
      "text/plain": [
       "array([12.96991 , 12.274538, 12.778033, ..., 18.9737  , 17.357159,\n",
       "       39.945409], shape=(4087,))"
      ]
     },
     "execution_count": 36,
     "metadata": {},
     "output_type": "execute_result"
    }
   ],
   "source": [
    "df['LONGITUDE'].unique()"
   ]
  },
  {
   "cell_type": "code",
   "execution_count": 37,
   "id": "347400da-c92f-4166-8388-ab8ae917932f",
   "metadata": {},
   "outputs": [
    {
     "data": {
      "text/plain": [
       "0        77\n",
       "1        76\n",
       "2        77\n",
       "3        77\n",
       "4        88\n",
       "         ..\n",
       "29045    78\n",
       "29046   -86\n",
       "29047    75\n",
       "29048    80\n",
       "29049    75\n",
       "Name: LATITUDE, Length: 29050, dtype: int64"
      ]
     },
     "execution_count": 37,
     "metadata": {},
     "output_type": "execute_result"
    }
   ],
   "source": [
    "df['LATITUDE'].astype(int)"
   ]
  },
  {
   "cell_type": "code",
   "execution_count": 38,
   "id": "95892219-3056-4d5c-8de3-61ab08ba7478",
   "metadata": {},
   "outputs": [
    {
     "data": {
      "text/plain": [
       "array([ 77.59796 ,  76.644605,  77.632191, ...,  73.3321  ,  76.841908,\n",
       "       -86.150721], shape=(4078,))"
      ]
     },
     "execution_count": 38,
     "metadata": {},
     "output_type": "execute_result"
    }
   ],
   "source": [
    "df['LATITUDE'].unique()"
   ]
  },
  {
   "cell_type": "code",
   "execution_count": 52,
   "id": "255419a5-b461-43d8-b258-13624b3ca262",
   "metadata": {},
   "outputs": [],
   "source": [
    "df_clean=df.copy()"
   ]
  },
  {
   "cell_type": "code",
   "execution_count": 53,
   "id": "8681a88d-67c5-415f-8211-4444ab201ad1",
   "metadata": {},
   "outputs": [],
   "source": [
    "df_clean = df_clean[\n",
    "    (df_clean['LATITUDE'] >= 6) & (df_clean['LATITUDE'] <= 38) &\n",
    "    (df_clean['LONGITUDE'] >= 68) & (df_clean['LONGITUDE'] <= 98)\n",
    "].reset_index(drop=True)"
   ]
  },
  {
   "cell_type": "code",
   "execution_count": 54,
   "id": "ff632ecd-01e9-4983-b18e-31b1adeb6da4",
   "metadata": {},
   "outputs": [
    {
     "name": "stdout",
     "output_type": "stream",
     "text": [
      "Rows after filtering: 0\n"
     ]
    }
   ],
   "source": [
    "print(f\"Rows after filtering: {len(df_clean)}\")"
   ]
  },
  {
   "cell_type": "code",
   "execution_count": 55,
   "id": "9b9bdc9e-3f3a-46ff-9e81-b0a4dcd855f5",
   "metadata": {},
   "outputs": [
    {
     "data": {
      "text/plain": [
       "np.int64(0)"
      ]
     },
     "execution_count": 55,
     "metadata": {},
     "output_type": "execute_result"
    }
   ],
   "source": [
    "df_clean.duplicated().sum()"
   ]
  },
  {
   "cell_type": "code",
   "execution_count": 56,
   "id": "f1020e48-4684-4504-976d-0ef0cfa4fab8",
   "metadata": {},
   "outputs": [
    {
     "data": {
      "text/plain": [
       "array([ 77.59796 ,  76.644605,  77.632191, ...,  73.3321  ,  76.841908,\n",
       "       -86.150721], shape=(4078,))"
      ]
     },
     "execution_count": 56,
     "metadata": {},
     "output_type": "execute_result"
    }
   ],
   "source": [
    "df['LATITUDE'].unique()"
   ]
  },
  {
   "cell_type": "code",
   "execution_count": 57,
   "id": "69cfe66d-6d80-4a6f-a668-5c08b8c82966",
   "metadata": {},
   "outputs": [
    {
     "name": "stdout",
     "output_type": "stream",
     "text": [
      "nan nan\n",
      "nan nan\n"
     ]
    }
   ],
   "source": [
    "print(df_clean['LATITUDE'].min(), df_clean['LATITUDE'].max())\n",
    "print(df_clean['LONGITUDE'].min(), df_clean['LONGITUDE'].max())\n"
   ]
  },
  {
   "cell_type": "code",
   "execution_count": 58,
   "id": "d7bafb8d-a549-4d68-97bd-c45eb9da979a",
   "metadata": {},
   "outputs": [
    {
     "ename": "SyntaxError",
     "evalue": "invalid syntax (875833466.py, line 1)",
     "output_type": "error",
     "traceback": [
      "\u001b[1;36m  Cell \u001b[1;32mIn[58], line 1\u001b[1;36m\u001b[0m\n\u001b[1;33m    (df_clean['LATITUDE'] >= 6) & (df_clean['LATITUDE'] <= 38) &\u001b[0m\n\u001b[1;37m                                                                ^\u001b[0m\n\u001b[1;31mSyntaxError\u001b[0m\u001b[1;31m:\u001b[0m invalid syntax\n"
     ]
    }
   ],
   "source": [
    "(df_clean['LATITUDE'] >= 6) & (df_clean['LATITUDE'] <= 38) &\n",
    "(df_clean['LONGITUDE'] >= 68) & (df_clean['LONGITUDE'] <= 98)\n"
   ]
  },
  {
   "cell_type": "code",
   "execution_count": 59,
   "id": "028d4666-5b00-4b1d-9cb9-ee79950935e7",
   "metadata": {},
   "outputs": [],
   "source": [
    "df_clean.rename(columns={'LATITUDE': 'LONG_TEMP', 'LONGITUDE': 'LATITUDE'}, inplace=True)\n",
    "df_clean.rename(columns={'LONG_TEMP': 'LONGITUDE'}, inplace=True)"
   ]
  },
  {
   "cell_type": "code",
   "execution_count": 60,
   "id": "711b231e-ce3c-4860-a3e5-ab8e90fcfff5",
   "metadata": {},
   "outputs": [
    {
     "name": "stdout",
     "output_type": "stream",
     "text": [
      "Rows after filtering: 0\n"
     ]
    }
   ],
   "source": [
    "df_clean = df_clean[\n",
    "    (df_clean['LATITUDE'] >= 6) & (df_clean['LATITUDE'] <= 38) &\n",
    "    (df_clean['LONGITUDE'] >= 68) & (df_clean['LONGITUDE'] <= 98)\n",
    "].reset_index(drop=True)\n",
    "\n",
    "print(f\"Rows after filtering: {len(df_clean)}\")\n"
   ]
  },
  {
   "cell_type": "code",
   "execution_count": 61,
   "id": "3ab494b5-a29a-460c-8fd8-9c7ca23900fb",
   "metadata": {},
   "outputs": [
    {
     "name": "stdout",
     "output_type": "stream",
     "text": [
      "count    0.0\n",
      "mean     NaN\n",
      "std      NaN\n",
      "min      NaN\n",
      "25%      NaN\n",
      "50%      NaN\n",
      "75%      NaN\n",
      "max      NaN\n",
      "Name: LATITUDE, dtype: float64\n",
      "count    0.0\n",
      "mean     NaN\n",
      "std      NaN\n",
      "min      NaN\n",
      "25%      NaN\n",
      "50%      NaN\n",
      "75%      NaN\n",
      "max      NaN\n",
      "Name: LONGITUDE, dtype: float64\n"
     ]
    }
   ],
   "source": [
    "print(df_clean['LATITUDE'].describe())\n",
    "print(df_clean['LONGITUDE'].describe())"
   ]
  },
  {
   "cell_type": "code",
   "execution_count": 63,
   "id": "921dcc39-c40b-489e-9259-20c6ba2740f9",
   "metadata": {},
   "outputs": [
    {
     "data": {
      "text/html": [
       "<div>\n",
       "<style scoped>\n",
       "    .dataframe tbody tr th:only-of-type {\n",
       "        vertical-align: middle;\n",
       "    }\n",
       "\n",
       "    .dataframe tbody tr th {\n",
       "        vertical-align: top;\n",
       "    }\n",
       "\n",
       "    .dataframe thead th {\n",
       "        text-align: right;\n",
       "    }\n",
       "</style>\n",
       "<table border=\"1\" class=\"dataframe\">\n",
       "  <thead>\n",
       "    <tr style=\"text-align: right;\">\n",
       "      <th></th>\n",
       "      <th>POSTED_BY</th>\n",
       "      <th>UNDER_CONSTRUCTION</th>\n",
       "      <th>RERA</th>\n",
       "      <th>BHK_NO.</th>\n",
       "      <th>BHK_OR_RK</th>\n",
       "      <th>SQUARE_FT</th>\n",
       "      <th>READY_TO_MOVE</th>\n",
       "      <th>RESALE</th>\n",
       "      <th>ADDRESS</th>\n",
       "      <th>LATITUDE</th>\n",
       "      <th>LONGITUDE</th>\n",
       "      <th>TARGET(PRICE_IN_LACS)</th>\n",
       "    </tr>\n",
       "  </thead>\n",
       "  <tbody>\n",
       "  </tbody>\n",
       "</table>\n",
       "</div>"
      ],
      "text/plain": [
       "Empty DataFrame\n",
       "Columns: [POSTED_BY, UNDER_CONSTRUCTION, RERA, BHK_NO., BHK_OR_RK, SQUARE_FT, READY_TO_MOVE, RESALE, ADDRESS, LATITUDE, LONGITUDE, TARGET(PRICE_IN_LACS)]\n",
       "Index: []"
      ]
     },
     "execution_count": 63,
     "metadata": {},
     "output_type": "execute_result"
    }
   ],
   "source": [
    "df_clean.head()"
   ]
  },
  {
   "cell_type": "code",
   "execution_count": 64,
   "id": "51fcbe45-5919-4969-8044-116afbbc66cf",
   "metadata": {},
   "outputs": [
    {
     "data": {
      "text/html": [
       "<div>\n",
       "<style scoped>\n",
       "    .dataframe tbody tr th:only-of-type {\n",
       "        vertical-align: middle;\n",
       "    }\n",
       "\n",
       "    .dataframe tbody tr th {\n",
       "        vertical-align: top;\n",
       "    }\n",
       "\n",
       "    .dataframe thead th {\n",
       "        text-align: right;\n",
       "    }\n",
       "</style>\n",
       "<table border=\"1\" class=\"dataframe\">\n",
       "  <thead>\n",
       "    <tr style=\"text-align: right;\">\n",
       "      <th></th>\n",
       "      <th>POSTED_BY</th>\n",
       "      <th>UNDER_CONSTRUCTION</th>\n",
       "      <th>RERA</th>\n",
       "      <th>BHK_NO.</th>\n",
       "      <th>BHK_OR_RK</th>\n",
       "      <th>SQUARE_FT</th>\n",
       "      <th>READY_TO_MOVE</th>\n",
       "      <th>RESALE</th>\n",
       "      <th>ADDRESS</th>\n",
       "      <th>LONGITUDE</th>\n",
       "      <th>LATITUDE</th>\n",
       "      <th>TARGET(PRICE_IN_LACS)</th>\n",
       "    </tr>\n",
       "  </thead>\n",
       "  <tbody>\n",
       "    <tr>\n",
       "      <th>0</th>\n",
       "      <td>Owner</td>\n",
       "      <td>0</td>\n",
       "      <td>0</td>\n",
       "      <td>2</td>\n",
       "      <td>BHK</td>\n",
       "      <td>1300.236407</td>\n",
       "      <td>1</td>\n",
       "      <td>1</td>\n",
       "      <td>Ksfc Layout,Bangalore</td>\n",
       "      <td>12.969910</td>\n",
       "      <td>77.597960</td>\n",
       "      <td>55.0</td>\n",
       "    </tr>\n",
       "    <tr>\n",
       "      <th>1</th>\n",
       "      <td>Dealer</td>\n",
       "      <td>0</td>\n",
       "      <td>0</td>\n",
       "      <td>2</td>\n",
       "      <td>BHK</td>\n",
       "      <td>1275.000000</td>\n",
       "      <td>1</td>\n",
       "      <td>1</td>\n",
       "      <td>Vishweshwara Nagar,Mysore</td>\n",
       "      <td>12.274538</td>\n",
       "      <td>76.644605</td>\n",
       "      <td>51.0</td>\n",
       "    </tr>\n",
       "    <tr>\n",
       "      <th>2</th>\n",
       "      <td>Owner</td>\n",
       "      <td>0</td>\n",
       "      <td>0</td>\n",
       "      <td>2</td>\n",
       "      <td>BHK</td>\n",
       "      <td>933.159722</td>\n",
       "      <td>1</td>\n",
       "      <td>1</td>\n",
       "      <td>Jigani,Bangalore</td>\n",
       "      <td>12.778033</td>\n",
       "      <td>77.632191</td>\n",
       "      <td>43.0</td>\n",
       "    </tr>\n",
       "    <tr>\n",
       "      <th>3</th>\n",
       "      <td>Owner</td>\n",
       "      <td>0</td>\n",
       "      <td>1</td>\n",
       "      <td>2</td>\n",
       "      <td>BHK</td>\n",
       "      <td>929.921143</td>\n",
       "      <td>1</td>\n",
       "      <td>1</td>\n",
       "      <td>Sector-1 Vaishali,Ghaziabad</td>\n",
       "      <td>28.642300</td>\n",
       "      <td>77.344500</td>\n",
       "      <td>62.5</td>\n",
       "    </tr>\n",
       "    <tr>\n",
       "      <th>4</th>\n",
       "      <td>Dealer</td>\n",
       "      <td>1</td>\n",
       "      <td>0</td>\n",
       "      <td>2</td>\n",
       "      <td>BHK</td>\n",
       "      <td>999.009247</td>\n",
       "      <td>0</td>\n",
       "      <td>1</td>\n",
       "      <td>New Town,Kolkata</td>\n",
       "      <td>22.592200</td>\n",
       "      <td>88.484911</td>\n",
       "      <td>60.5</td>\n",
       "    </tr>\n",
       "  </tbody>\n",
       "</table>\n",
       "</div>"
      ],
      "text/plain": [
       "  POSTED_BY  UNDER_CONSTRUCTION  RERA  BHK_NO. BHK_OR_RK    SQUARE_FT  \\\n",
       "0     Owner                   0     0        2       BHK  1300.236407   \n",
       "1    Dealer                   0     0        2       BHK  1275.000000   \n",
       "2     Owner                   0     0        2       BHK   933.159722   \n",
       "3     Owner                   0     1        2       BHK   929.921143   \n",
       "4    Dealer                   1     0        2       BHK   999.009247   \n",
       "\n",
       "   READY_TO_MOVE  RESALE                      ADDRESS  LONGITUDE   LATITUDE  \\\n",
       "0              1       1        Ksfc Layout,Bangalore  12.969910  77.597960   \n",
       "1              1       1    Vishweshwara Nagar,Mysore  12.274538  76.644605   \n",
       "2              1       1             Jigani,Bangalore  12.778033  77.632191   \n",
       "3              1       1  Sector-1 Vaishali,Ghaziabad  28.642300  77.344500   \n",
       "4              0       1             New Town,Kolkata  22.592200  88.484911   \n",
       "\n",
       "   TARGET(PRICE_IN_LACS)  \n",
       "0                   55.0  \n",
       "1                   51.0  \n",
       "2                   43.0  \n",
       "3                   62.5  \n",
       "4                   60.5  "
      ]
     },
     "execution_count": 64,
     "metadata": {},
     "output_type": "execute_result"
    }
   ],
   "source": [
    "df.head()"
   ]
  },
  {
   "cell_type": "code",
   "execution_count": 65,
   "id": "a67869a3-a44f-43ff-a357-9ea76124420a",
   "metadata": {},
   "outputs": [],
   "source": [
    "df_copy=df.copy()"
   ]
  },
  {
   "cell_type": "code",
   "execution_count": 66,
   "id": "59974b9c-f76e-416b-8e48-9aef08064bed",
   "metadata": {},
   "outputs": [
    {
     "data": {
      "text/html": [
       "<div>\n",
       "<style scoped>\n",
       "    .dataframe tbody tr th:only-of-type {\n",
       "        vertical-align: middle;\n",
       "    }\n",
       "\n",
       "    .dataframe tbody tr th {\n",
       "        vertical-align: top;\n",
       "    }\n",
       "\n",
       "    .dataframe thead th {\n",
       "        text-align: right;\n",
       "    }\n",
       "</style>\n",
       "<table border=\"1\" class=\"dataframe\">\n",
       "  <thead>\n",
       "    <tr style=\"text-align: right;\">\n",
       "      <th></th>\n",
       "      <th>POSTED_BY</th>\n",
       "      <th>UNDER_CONSTRUCTION</th>\n",
       "      <th>RERA</th>\n",
       "      <th>BHK_NO.</th>\n",
       "      <th>BHK_OR_RK</th>\n",
       "      <th>SQUARE_FT</th>\n",
       "      <th>READY_TO_MOVE</th>\n",
       "      <th>RESALE</th>\n",
       "      <th>ADDRESS</th>\n",
       "      <th>LONGITUDE</th>\n",
       "      <th>LATITUDE</th>\n",
       "      <th>TARGET(PRICE_IN_LACS)</th>\n",
       "    </tr>\n",
       "  </thead>\n",
       "  <tbody>\n",
       "    <tr>\n",
       "      <th>0</th>\n",
       "      <td>Owner</td>\n",
       "      <td>0</td>\n",
       "      <td>0</td>\n",
       "      <td>2</td>\n",
       "      <td>BHK</td>\n",
       "      <td>1300.236407</td>\n",
       "      <td>1</td>\n",
       "      <td>1</td>\n",
       "      <td>Ksfc Layout,Bangalore</td>\n",
       "      <td>12.969910</td>\n",
       "      <td>77.597960</td>\n",
       "      <td>55.0</td>\n",
       "    </tr>\n",
       "    <tr>\n",
       "      <th>1</th>\n",
       "      <td>Dealer</td>\n",
       "      <td>0</td>\n",
       "      <td>0</td>\n",
       "      <td>2</td>\n",
       "      <td>BHK</td>\n",
       "      <td>1275.000000</td>\n",
       "      <td>1</td>\n",
       "      <td>1</td>\n",
       "      <td>Vishweshwara Nagar,Mysore</td>\n",
       "      <td>12.274538</td>\n",
       "      <td>76.644605</td>\n",
       "      <td>51.0</td>\n",
       "    </tr>\n",
       "    <tr>\n",
       "      <th>2</th>\n",
       "      <td>Owner</td>\n",
       "      <td>0</td>\n",
       "      <td>0</td>\n",
       "      <td>2</td>\n",
       "      <td>BHK</td>\n",
       "      <td>933.159722</td>\n",
       "      <td>1</td>\n",
       "      <td>1</td>\n",
       "      <td>Jigani,Bangalore</td>\n",
       "      <td>12.778033</td>\n",
       "      <td>77.632191</td>\n",
       "      <td>43.0</td>\n",
       "    </tr>\n",
       "    <tr>\n",
       "      <th>3</th>\n",
       "      <td>Owner</td>\n",
       "      <td>0</td>\n",
       "      <td>1</td>\n",
       "      <td>2</td>\n",
       "      <td>BHK</td>\n",
       "      <td>929.921143</td>\n",
       "      <td>1</td>\n",
       "      <td>1</td>\n",
       "      <td>Sector-1 Vaishali,Ghaziabad</td>\n",
       "      <td>28.642300</td>\n",
       "      <td>77.344500</td>\n",
       "      <td>62.5</td>\n",
       "    </tr>\n",
       "    <tr>\n",
       "      <th>4</th>\n",
       "      <td>Dealer</td>\n",
       "      <td>1</td>\n",
       "      <td>0</td>\n",
       "      <td>2</td>\n",
       "      <td>BHK</td>\n",
       "      <td>999.009247</td>\n",
       "      <td>0</td>\n",
       "      <td>1</td>\n",
       "      <td>New Town,Kolkata</td>\n",
       "      <td>22.592200</td>\n",
       "      <td>88.484911</td>\n",
       "      <td>60.5</td>\n",
       "    </tr>\n",
       "  </tbody>\n",
       "</table>\n",
       "</div>"
      ],
      "text/plain": [
       "  POSTED_BY  UNDER_CONSTRUCTION  RERA  BHK_NO. BHK_OR_RK    SQUARE_FT  \\\n",
       "0     Owner                   0     0        2       BHK  1300.236407   \n",
       "1    Dealer                   0     0        2       BHK  1275.000000   \n",
       "2     Owner                   0     0        2       BHK   933.159722   \n",
       "3     Owner                   0     1        2       BHK   929.921143   \n",
       "4    Dealer                   1     0        2       BHK   999.009247   \n",
       "\n",
       "   READY_TO_MOVE  RESALE                      ADDRESS  LONGITUDE   LATITUDE  \\\n",
       "0              1       1        Ksfc Layout,Bangalore  12.969910  77.597960   \n",
       "1              1       1    Vishweshwara Nagar,Mysore  12.274538  76.644605   \n",
       "2              1       1             Jigani,Bangalore  12.778033  77.632191   \n",
       "3              1       1  Sector-1 Vaishali,Ghaziabad  28.642300  77.344500   \n",
       "4              0       1             New Town,Kolkata  22.592200  88.484911   \n",
       "\n",
       "   TARGET(PRICE_IN_LACS)  \n",
       "0                   55.0  \n",
       "1                   51.0  \n",
       "2                   43.0  \n",
       "3                   62.5  \n",
       "4                   60.5  "
      ]
     },
     "execution_count": 66,
     "metadata": {},
     "output_type": "execute_result"
    }
   ],
   "source": [
    "df_copy.head()"
   ]
  },
  {
   "cell_type": "code",
   "execution_count": 67,
   "id": "d79f99c5-1bc8-4b50-b09b-369e4c083b80",
   "metadata": {},
   "outputs": [
    {
     "data": {
      "text/plain": [
       "array([12.96991 , 12.274538, 12.778033, ..., 18.9737  , 17.357159,\n",
       "       39.945409], shape=(4087,))"
      ]
     },
     "execution_count": 67,
     "metadata": {},
     "output_type": "execute_result"
    }
   ],
   "source": [
    "df['LONGITUDE'].unique()"
   ]
  },
  {
   "cell_type": "code",
   "execution_count": 68,
   "id": "c2ef2f33-0b4e-4572-bc3c-61404be984d3",
   "metadata": {},
   "outputs": [
    {
     "name": "stdout",
     "output_type": "stream",
     "text": [
      "-37.7130075 59.912884\n"
     ]
    }
   ],
   "source": [
    "print(df['LONGITUDE'].min(), df['LONGITUDE'].max())"
   ]
  },
  {
   "cell_type": "code",
   "execution_count": 69,
   "id": "91830a2e-902d-4ea0-8c8f-64087bd35d9b",
   "metadata": {},
   "outputs": [
    {
     "data": {
      "text/plain": [
       "0        False\n",
       "1        False\n",
       "2        False\n",
       "3        False\n",
       "4        False\n",
       "         ...  \n",
       "29045    False\n",
       "29046    False\n",
       "29047    False\n",
       "29048    False\n",
       "29049    False\n",
       "Name: LONGITUDE, Length: 29050, dtype: bool"
      ]
     },
     "execution_count": 69,
     "metadata": {},
     "output_type": "execute_result"
    }
   ],
   "source": [
    "(df_copy['LONGITUDE'] >= 68) & (df_copy['LONGITUDE'] <= 98)"
   ]
  },
  {
   "cell_type": "code",
   "execution_count": 72,
   "id": "df46213f-6b63-4ae2-abb8-d3193fb24f77",
   "metadata": {},
   "outputs": [],
   "source": [
    "df_copy['LATITUDE'], df_copy['LONGITUDE'] = df_copy['LONGITUDE'], df_copy['LATITUDE']"
   ]
  },
  {
   "cell_type": "code",
   "execution_count": 73,
   "id": "ff5afe58-0644-4893-a9f9-18bf850c40bd",
   "metadata": {},
   "outputs": [
    {
     "name": "stdout",
     "output_type": "stream",
     "text": [
      "-37.7130075 59.912884\n",
      "-121.7612481 152.962676\n"
     ]
    }
   ],
   "source": [
    "print(df_copy['LATITUDE'].min(), df_copy['LATITUDE'].max())\n",
    "print(df_copy['LONGITUDE'].min(), df_copy['LONGITUDE'].max())"
   ]
  },
  {
   "cell_type": "code",
   "execution_count": 74,
   "id": "81641fb7-51be-4b61-b3b8-b971be4adfb4",
   "metadata": {},
   "outputs": [
    {
     "data": {
      "text/plain": [
       "array([12.96991 , 12.274538, 12.778033, ..., 18.9737  , 17.357159,\n",
       "       39.945409], shape=(4087,))"
      ]
     },
     "execution_count": 74,
     "metadata": {},
     "output_type": "execute_result"
    }
   ],
   "source": [
    "df_copy['LATITUDE'].unique()"
   ]
  },
  {
   "cell_type": "code",
   "execution_count": 76,
   "id": "1e3e8773-3088-4fc9-960a-db22e6b1e999",
   "metadata": {},
   "outputs": [
    {
     "data": {
      "text/plain": [
       "array([ 77.59796 ,  76.644605,  77.632191, ...,  73.3321  ,  76.841908,\n",
       "       -86.150721], shape=(4078,))"
      ]
     },
     "execution_count": 76,
     "metadata": {},
     "output_type": "execute_result"
    }
   ],
   "source": [
    "df_copy['LONGITUDE'].unique()"
   ]
  },
  {
   "cell_type": "code",
   "execution_count": 77,
   "id": "51327631-a0e1-4d75-a61c-663b029faf23",
   "metadata": {},
   "outputs": [],
   "source": [
    "df_clean = df_copy[\n",
    "    (df_copy['LATITUDE'] >= 6) & (df_copy['LATITUDE'] <= 38) &\n",
    "    (df_copy['LONGITUDE'] >= 68) & (df_copy['LONGITUDE'] <= 98)\n",
    "].reset_index(drop=True)\n"
   ]
  },
  {
   "cell_type": "code",
   "execution_count": 78,
   "id": "cdf638b8-115c-44ba-879b-b6d81e74376b",
   "metadata": {},
   "outputs": [
    {
     "name": "stdout",
     "output_type": "stream",
     "text": [
      "Rows after filtering: 28795\n"
     ]
    }
   ],
   "source": [
    "print(f\"Rows after filtering: {len(df_clean)}\")"
   ]
  },
  {
   "cell_type": "code",
   "execution_count": 79,
   "id": "ed802b12-88ec-442a-be7a-cfe27c2e752f",
   "metadata": {},
   "outputs": [
    {
     "name": "stdout",
     "output_type": "stream",
     "text": [
      "-37.7130075 59.912884\n",
      "-121.7612481 152.962676\n"
     ]
    }
   ],
   "source": [
    "print(df_copy['LATITUDE'].min(), df_copy['LATITUDE'].max())\n",
    "print(df_copy['LONGITUDE'].min(), df_copy['LONGITUDE'].max())"
   ]
  },
  {
   "cell_type": "code",
   "execution_count": 80,
   "id": "e913c821-d098-4264-a965-6892ed85db74",
   "metadata": {},
   "outputs": [
    {
     "name": "stdout",
     "output_type": "stream",
     "text": [
      "8.513294 34.552275\n",
      "69.104114 95.0\n"
     ]
    }
   ],
   "source": [
    "print(df_clean['LATITUDE'].min(), df_clean['LATITUDE'].max())\n",
    "print(df_clean['LONGITUDE'].min(), df_clean['LONGITUDE'].max())"
   ]
  },
  {
   "cell_type": "code",
   "execution_count": 81,
   "id": "1a0440eb-6872-408a-82d2-7b414a41043b",
   "metadata": {},
   "outputs": [
    {
     "data": {
      "text/html": [
       "<div>\n",
       "<style scoped>\n",
       "    .dataframe tbody tr th:only-of-type {\n",
       "        vertical-align: middle;\n",
       "    }\n",
       "\n",
       "    .dataframe tbody tr th {\n",
       "        vertical-align: top;\n",
       "    }\n",
       "\n",
       "    .dataframe thead th {\n",
       "        text-align: right;\n",
       "    }\n",
       "</style>\n",
       "<table border=\"1\" class=\"dataframe\">\n",
       "  <thead>\n",
       "    <tr style=\"text-align: right;\">\n",
       "      <th></th>\n",
       "      <th>POSTED_BY</th>\n",
       "      <th>UNDER_CONSTRUCTION</th>\n",
       "      <th>RERA</th>\n",
       "      <th>BHK_NO.</th>\n",
       "      <th>BHK_OR_RK</th>\n",
       "      <th>SQUARE_FT</th>\n",
       "      <th>READY_TO_MOVE</th>\n",
       "      <th>RESALE</th>\n",
       "      <th>ADDRESS</th>\n",
       "      <th>LONGITUDE</th>\n",
       "      <th>LATITUDE</th>\n",
       "      <th>TARGET(PRICE_IN_LACS)</th>\n",
       "    </tr>\n",
       "  </thead>\n",
       "  <tbody>\n",
       "    <tr>\n",
       "      <th>0</th>\n",
       "      <td>Owner</td>\n",
       "      <td>0</td>\n",
       "      <td>0</td>\n",
       "      <td>2</td>\n",
       "      <td>BHK</td>\n",
       "      <td>1300.236407</td>\n",
       "      <td>1</td>\n",
       "      <td>1</td>\n",
       "      <td>Ksfc Layout,Bangalore</td>\n",
       "      <td>77.597960</td>\n",
       "      <td>12.969910</td>\n",
       "      <td>55.0</td>\n",
       "    </tr>\n",
       "    <tr>\n",
       "      <th>1</th>\n",
       "      <td>Dealer</td>\n",
       "      <td>0</td>\n",
       "      <td>0</td>\n",
       "      <td>2</td>\n",
       "      <td>BHK</td>\n",
       "      <td>1275.000000</td>\n",
       "      <td>1</td>\n",
       "      <td>1</td>\n",
       "      <td>Vishweshwara Nagar,Mysore</td>\n",
       "      <td>76.644605</td>\n",
       "      <td>12.274538</td>\n",
       "      <td>51.0</td>\n",
       "    </tr>\n",
       "    <tr>\n",
       "      <th>2</th>\n",
       "      <td>Owner</td>\n",
       "      <td>0</td>\n",
       "      <td>0</td>\n",
       "      <td>2</td>\n",
       "      <td>BHK</td>\n",
       "      <td>933.159722</td>\n",
       "      <td>1</td>\n",
       "      <td>1</td>\n",
       "      <td>Jigani,Bangalore</td>\n",
       "      <td>77.632191</td>\n",
       "      <td>12.778033</td>\n",
       "      <td>43.0</td>\n",
       "    </tr>\n",
       "    <tr>\n",
       "      <th>3</th>\n",
       "      <td>Owner</td>\n",
       "      <td>0</td>\n",
       "      <td>1</td>\n",
       "      <td>2</td>\n",
       "      <td>BHK</td>\n",
       "      <td>929.921143</td>\n",
       "      <td>1</td>\n",
       "      <td>1</td>\n",
       "      <td>Sector-1 Vaishali,Ghaziabad</td>\n",
       "      <td>77.344500</td>\n",
       "      <td>28.642300</td>\n",
       "      <td>62.5</td>\n",
       "    </tr>\n",
       "    <tr>\n",
       "      <th>4</th>\n",
       "      <td>Dealer</td>\n",
       "      <td>1</td>\n",
       "      <td>0</td>\n",
       "      <td>2</td>\n",
       "      <td>BHK</td>\n",
       "      <td>999.009247</td>\n",
       "      <td>0</td>\n",
       "      <td>1</td>\n",
       "      <td>New Town,Kolkata</td>\n",
       "      <td>88.484911</td>\n",
       "      <td>22.592200</td>\n",
       "      <td>60.5</td>\n",
       "    </tr>\n",
       "  </tbody>\n",
       "</table>\n",
       "</div>"
      ],
      "text/plain": [
       "  POSTED_BY  UNDER_CONSTRUCTION  RERA  BHK_NO. BHK_OR_RK    SQUARE_FT  \\\n",
       "0     Owner                   0     0        2       BHK  1300.236407   \n",
       "1    Dealer                   0     0        2       BHK  1275.000000   \n",
       "2     Owner                   0     0        2       BHK   933.159722   \n",
       "3     Owner                   0     1        2       BHK   929.921143   \n",
       "4    Dealer                   1     0        2       BHK   999.009247   \n",
       "\n",
       "   READY_TO_MOVE  RESALE                      ADDRESS  LONGITUDE   LATITUDE  \\\n",
       "0              1       1        Ksfc Layout,Bangalore  77.597960  12.969910   \n",
       "1              1       1    Vishweshwara Nagar,Mysore  76.644605  12.274538   \n",
       "2              1       1             Jigani,Bangalore  77.632191  12.778033   \n",
       "3              1       1  Sector-1 Vaishali,Ghaziabad  77.344500  28.642300   \n",
       "4              0       1             New Town,Kolkata  88.484911  22.592200   \n",
       "\n",
       "   TARGET(PRICE_IN_LACS)  \n",
       "0                   55.0  \n",
       "1                   51.0  \n",
       "2                   43.0  \n",
       "3                   62.5  \n",
       "4                   60.5  "
      ]
     },
     "execution_count": 81,
     "metadata": {},
     "output_type": "execute_result"
    }
   ],
   "source": [
    "df_clean.head()"
   ]
  },
  {
   "cell_type": "code",
   "execution_count": 82,
   "id": "f4ba21e6-3e3d-4d8d-82b7-d6cadfd21139",
   "metadata": {},
   "outputs": [
    {
     "data": {
      "text/plain": [
       "np.int64(0)"
      ]
     },
     "execution_count": 82,
     "metadata": {},
     "output_type": "execute_result"
    }
   ],
   "source": [
    "df_clean.duplicated().sum()"
   ]
  },
  {
   "cell_type": "code",
   "execution_count": 83,
   "id": "5f937335-5305-4801-94db-97d61c29fa53",
   "metadata": {},
   "outputs": [
    {
     "data": {
      "text/plain": [
       "array([1300.236407 , 1275.       ,  933.1597222, ..., 1022.641509 ,\n",
       "        927.0790093,  896.7741935], shape=(19417,))"
      ]
     },
     "execution_count": 83,
     "metadata": {},
     "output_type": "execute_result"
    }
   ],
   "source": [
    "df_clean['SQUARE_FT'].unique()"
   ]
  },
  {
   "cell_type": "code",
   "execution_count": 84,
   "id": "269a6b9e-2357-4826-9ad5-da8b79f5bab0",
   "metadata": {},
   "outputs": [
    {
     "data": {
      "text/plain": [
       "3.0"
      ]
     },
     "execution_count": 84,
     "metadata": {},
     "output_type": "execute_result"
    }
   ],
   "source": [
    "df_clean['SQUARE_FT'].min()"
   ]
  },
  {
   "cell_type": "code",
   "execution_count": 85,
   "id": "c5cccd56-ff71-44bf-84fb-e05f923bd189",
   "metadata": {},
   "outputs": [
    {
     "data": {
      "text/plain": [
       "254545454.5"
      ]
     },
     "execution_count": 85,
     "metadata": {},
     "output_type": "execute_result"
    }
   ],
   "source": [
    "df_clean['SQUARE_FT'].max()"
   ]
  },
  {
   "cell_type": "code",
   "execution_count": 86,
   "id": "e562baf1-f5f7-471a-81fa-36431893af4b",
   "metadata": {},
   "outputs": [
    {
     "data": {
      "text/html": [
       "<div>\n",
       "<style scoped>\n",
       "    .dataframe tbody tr th:only-of-type {\n",
       "        vertical-align: middle;\n",
       "    }\n",
       "\n",
       "    .dataframe tbody tr th {\n",
       "        vertical-align: top;\n",
       "    }\n",
       "\n",
       "    .dataframe thead th {\n",
       "        text-align: right;\n",
       "    }\n",
       "</style>\n",
       "<table border=\"1\" class=\"dataframe\">\n",
       "  <thead>\n",
       "    <tr style=\"text-align: right;\">\n",
       "      <th></th>\n",
       "      <th>POSTED_BY</th>\n",
       "      <th>UNDER_CONSTRUCTION</th>\n",
       "      <th>RERA</th>\n",
       "      <th>BHK_NO.</th>\n",
       "      <th>BHK_OR_RK</th>\n",
       "      <th>SQUARE_FT</th>\n",
       "      <th>READY_TO_MOVE</th>\n",
       "      <th>RESALE</th>\n",
       "      <th>ADDRESS</th>\n",
       "      <th>LONGITUDE</th>\n",
       "      <th>LATITUDE</th>\n",
       "      <th>TARGET(PRICE_IN_LACS)</th>\n",
       "    </tr>\n",
       "  </thead>\n",
       "  <tbody>\n",
       "  </tbody>\n",
       "</table>\n",
       "</div>"
      ],
      "text/plain": [
       "Empty DataFrame\n",
       "Columns: [POSTED_BY, UNDER_CONSTRUCTION, RERA, BHK_NO., BHK_OR_RK, SQUARE_FT, READY_TO_MOVE, RESALE, ADDRESS, LONGITUDE, LATITUDE, TARGET(PRICE_IN_LACS)]\n",
       "Index: []"
      ]
     },
     "execution_count": 86,
     "metadata": {},
     "output_type": "execute_result"
    }
   ],
   "source": [
    "df_clean[df_clean['SQUARE_FT'] <= 0]"
   ]
  },
  {
   "cell_type": "code",
   "execution_count": 87,
   "id": "68a31e36-a0a1-4c07-bd7e-8057257b7dd7",
   "metadata": {},
   "outputs": [
    {
     "name": "stdout",
     "output_type": "stream",
     "text": [
      "0        False\n",
      "1        False\n",
      "2        False\n",
      "3        False\n",
      "4        False\n",
      "         ...  \n",
      "28790    False\n",
      "28791    False\n",
      "28792    False\n",
      "28793    False\n",
      "28794    False\n",
      "Name: SQUARE_FT, Length: 28795, dtype: bool\n"
     ]
    }
   ],
   "source": [
    "print((df_clean['SQUARE_FT'] == 3))"
   ]
  },
  {
   "cell_type": "code",
   "execution_count": 90,
   "id": "49b237d5-0380-4df2-a1dc-153cf1a22d73",
   "metadata": {},
   "outputs": [
    {
     "data": {
      "text/html": [
       "<div>\n",
       "<style scoped>\n",
       "    .dataframe tbody tr th:only-of-type {\n",
       "        vertical-align: middle;\n",
       "    }\n",
       "\n",
       "    .dataframe tbody tr th {\n",
       "        vertical-align: top;\n",
       "    }\n",
       "\n",
       "    .dataframe thead th {\n",
       "        text-align: right;\n",
       "    }\n",
       "</style>\n",
       "<table border=\"1\" class=\"dataframe\">\n",
       "  <thead>\n",
       "    <tr style=\"text-align: right;\">\n",
       "      <th></th>\n",
       "      <th>POSTED_BY</th>\n",
       "      <th>UNDER_CONSTRUCTION</th>\n",
       "      <th>RERA</th>\n",
       "      <th>BHK_NO.</th>\n",
       "      <th>BHK_OR_RK</th>\n",
       "      <th>SQUARE_FT</th>\n",
       "      <th>READY_TO_MOVE</th>\n",
       "      <th>RESALE</th>\n",
       "      <th>ADDRESS</th>\n",
       "      <th>LONGITUDE</th>\n",
       "      <th>LATITUDE</th>\n",
       "      <th>TARGET(PRICE_IN_LACS)</th>\n",
       "    </tr>\n",
       "  </thead>\n",
       "  <tbody>\n",
       "    <tr>\n",
       "      <th>2079</th>\n",
       "      <td>Owner</td>\n",
       "      <td>0</td>\n",
       "      <td>0</td>\n",
       "      <td>2</td>\n",
       "      <td>BHK</td>\n",
       "      <td>5.000000</td>\n",
       "      <td>1</td>\n",
       "      <td>1</td>\n",
       "      <td>Sector-29 Chandigarh,Chandigarh</td>\n",
       "      <td>76.777256</td>\n",
       "      <td>30.755000</td>\n",
       "      <td>45.0</td>\n",
       "    </tr>\n",
       "    <tr>\n",
       "      <th>2307</th>\n",
       "      <td>Owner</td>\n",
       "      <td>0</td>\n",
       "      <td>0</td>\n",
       "      <td>2</td>\n",
       "      <td>BHK</td>\n",
       "      <td>49.800797</td>\n",
       "      <td>1</td>\n",
       "      <td>1</td>\n",
       "      <td>Civil Lines,Nagpur</td>\n",
       "      <td>79.069531</td>\n",
       "      <td>21.152819</td>\n",
       "      <td>30.0</td>\n",
       "    </tr>\n",
       "    <tr>\n",
       "      <th>2958</th>\n",
       "      <td>Owner</td>\n",
       "      <td>0</td>\n",
       "      <td>0</td>\n",
       "      <td>3</td>\n",
       "      <td>BHK</td>\n",
       "      <td>99.975006</td>\n",
       "      <td>1</td>\n",
       "      <td>1</td>\n",
       "      <td>Bhatnagar Colony,Jind</td>\n",
       "      <td>76.323316</td>\n",
       "      <td>29.305611</td>\n",
       "      <td>40.0</td>\n",
       "    </tr>\n",
       "    <tr>\n",
       "      <th>3242</th>\n",
       "      <td>Owner</td>\n",
       "      <td>0</td>\n",
       "      <td>0</td>\n",
       "      <td>2</td>\n",
       "      <td>BHK</td>\n",
       "      <td>3.000000</td>\n",
       "      <td>1</td>\n",
       "      <td>1</td>\n",
       "      <td>industrial area,Hajipur</td>\n",
       "      <td>87.287479</td>\n",
       "      <td>23.525713</td>\n",
       "      <td>12.0</td>\n",
       "    </tr>\n",
       "    <tr>\n",
       "      <th>4728</th>\n",
       "      <td>Owner</td>\n",
       "      <td>0</td>\n",
       "      <td>0</td>\n",
       "      <td>2</td>\n",
       "      <td>BHK</td>\n",
       "      <td>98.000784</td>\n",
       "      <td>1</td>\n",
       "      <td>1</td>\n",
       "      <td>Dodhpur,Aligarh</td>\n",
       "      <td>77.782574</td>\n",
       "      <td>27.244478</td>\n",
       "      <td>50.0</td>\n",
       "    </tr>\n",
       "    <tr>\n",
       "      <th>9279</th>\n",
       "      <td>Owner</td>\n",
       "      <td>0</td>\n",
       "      <td>0</td>\n",
       "      <td>1</td>\n",
       "      <td>BHK</td>\n",
       "      <td>54.999450</td>\n",
       "      <td>1</td>\n",
       "      <td>1</td>\n",
       "      <td>Sector-17 Vasundhara,Ghaziabad</td>\n",
       "      <td>77.355737</td>\n",
       "      <td>28.649273</td>\n",
       "      <td>35.0</td>\n",
       "    </tr>\n",
       "    <tr>\n",
       "      <th>9702</th>\n",
       "      <td>Owner</td>\n",
       "      <td>0</td>\n",
       "      <td>0</td>\n",
       "      <td>2</td>\n",
       "      <td>BHK</td>\n",
       "      <td>74.000987</td>\n",
       "      <td>1</td>\n",
       "      <td>1</td>\n",
       "      <td>Baina Vasco,Goa</td>\n",
       "      <td>73.807730</td>\n",
       "      <td>15.395220</td>\n",
       "      <td>39.0</td>\n",
       "    </tr>\n",
       "    <tr>\n",
       "      <th>10324</th>\n",
       "      <td>Owner</td>\n",
       "      <td>0</td>\n",
       "      <td>0</td>\n",
       "      <td>1</td>\n",
       "      <td>BHK</td>\n",
       "      <td>55.000000</td>\n",
       "      <td>1</td>\n",
       "      <td>1</td>\n",
       "      <td>Govardhan,Mathura</td>\n",
       "      <td>77.465069</td>\n",
       "      <td>27.494145</td>\n",
       "      <td>16.5</td>\n",
       "    </tr>\n",
       "    <tr>\n",
       "      <th>10356</th>\n",
       "      <td>Owner</td>\n",
       "      <td>1</td>\n",
       "      <td>1</td>\n",
       "      <td>2</td>\n",
       "      <td>BHK</td>\n",
       "      <td>70.883870</td>\n",
       "      <td>0</td>\n",
       "      <td>1</td>\n",
       "      <td>Sangolda,Goa</td>\n",
       "      <td>73.805282</td>\n",
       "      <td>15.550351</td>\n",
       "      <td>48.8</td>\n",
       "    </tr>\n",
       "    <tr>\n",
       "      <th>10566</th>\n",
       "      <td>Owner</td>\n",
       "      <td>0</td>\n",
       "      <td>0</td>\n",
       "      <td>2</td>\n",
       "      <td>BHK</td>\n",
       "      <td>91.000091</td>\n",
       "      <td>1</td>\n",
       "      <td>1</td>\n",
       "      <td>Swarna Jayanti Nagar,Aligarh</td>\n",
       "      <td>78.101489</td>\n",
       "      <td>27.892383</td>\n",
       "      <td>30.0</td>\n",
       "    </tr>\n",
       "    <tr>\n",
       "      <th>10959</th>\n",
       "      <td>Owner</td>\n",
       "      <td>0</td>\n",
       "      <td>0</td>\n",
       "      <td>1</td>\n",
       "      <td>BHK</td>\n",
       "      <td>49.000092</td>\n",
       "      <td>1</td>\n",
       "      <td>1</td>\n",
       "      <td>kakinada,Kakinada</td>\n",
       "      <td>82.240758</td>\n",
       "      <td>16.979477</td>\n",
       "      <td>16.0</td>\n",
       "    </tr>\n",
       "    <tr>\n",
       "      <th>12628</th>\n",
       "      <td>Owner</td>\n",
       "      <td>0</td>\n",
       "      <td>0</td>\n",
       "      <td>1</td>\n",
       "      <td>BHK</td>\n",
       "      <td>80.000000</td>\n",
       "      <td>1</td>\n",
       "      <td>1</td>\n",
       "      <td>Nhare Pune,Pune</td>\n",
       "      <td>73.847780</td>\n",
       "      <td>18.523610</td>\n",
       "      <td>24.0</td>\n",
       "    </tr>\n",
       "    <tr>\n",
       "      <th>13555</th>\n",
       "      <td>Owner</td>\n",
       "      <td>0</td>\n",
       "      <td>0</td>\n",
       "      <td>2</td>\n",
       "      <td>BHK</td>\n",
       "      <td>3.985594</td>\n",
       "      <td>1</td>\n",
       "      <td>1</td>\n",
       "      <td>Amlidih,Raipur</td>\n",
       "      <td>81.676956</td>\n",
       "      <td>21.213822</td>\n",
       "      <td>24.9</td>\n",
       "    </tr>\n",
       "    <tr>\n",
       "      <th>14486</th>\n",
       "      <td>Owner</td>\n",
       "      <td>0</td>\n",
       "      <td>0</td>\n",
       "      <td>1</td>\n",
       "      <td>BHK</td>\n",
       "      <td>58.001436</td>\n",
       "      <td>1</td>\n",
       "      <td>1</td>\n",
       "      <td>Assonora,Goa</td>\n",
       "      <td>73.898600</td>\n",
       "      <td>15.618700</td>\n",
       "      <td>21.0</td>\n",
       "    </tr>\n",
       "    <tr>\n",
       "      <th>14781</th>\n",
       "      <td>Owner</td>\n",
       "      <td>0</td>\n",
       "      <td>0</td>\n",
       "      <td>4</td>\n",
       "      <td>BHK</td>\n",
       "      <td>45.000191</td>\n",
       "      <td>1</td>\n",
       "      <td>1</td>\n",
       "      <td>Swarn Jayanti Vihar,Kanpur</td>\n",
       "      <td>80.331110</td>\n",
       "      <td>26.472500</td>\n",
       "      <td>23.5</td>\n",
       "    </tr>\n",
       "    <tr>\n",
       "      <th>14913</th>\n",
       "      <td>Owner</td>\n",
       "      <td>0</td>\n",
       "      <td>0</td>\n",
       "      <td>1</td>\n",
       "      <td>BHK</td>\n",
       "      <td>10.979906</td>\n",
       "      <td>1</td>\n",
       "      <td>1</td>\n",
       "      <td>Ganesh Colony,Jalgaon</td>\n",
       "      <td>75.770559</td>\n",
       "      <td>21.047939</td>\n",
       "      <td>27.3</td>\n",
       "    </tr>\n",
       "    <tr>\n",
       "      <th>15188</th>\n",
       "      <td>Owner</td>\n",
       "      <td>0</td>\n",
       "      <td>0</td>\n",
       "      <td>1</td>\n",
       "      <td>BHK</td>\n",
       "      <td>32.000000</td>\n",
       "      <td>1</td>\n",
       "      <td>1</td>\n",
       "      <td>Makanpur,Ghaziabad</td>\n",
       "      <td>77.354534</td>\n",
       "      <td>28.636759</td>\n",
       "      <td>13.0</td>\n",
       "    </tr>\n",
       "    <tr>\n",
       "      <th>16866</th>\n",
       "      <td>Owner</td>\n",
       "      <td>0</td>\n",
       "      <td>0</td>\n",
       "      <td>2</td>\n",
       "      <td>BHK</td>\n",
       "      <td>80.000000</td>\n",
       "      <td>1</td>\n",
       "      <td>1</td>\n",
       "      <td>Kamla Nagar,Agra</td>\n",
       "      <td>78.026673</td>\n",
       "      <td>27.221766</td>\n",
       "      <td>22.0</td>\n",
       "    </tr>\n",
       "    <tr>\n",
       "      <th>19769</th>\n",
       "      <td>Owner</td>\n",
       "      <td>1</td>\n",
       "      <td>0</td>\n",
       "      <td>1</td>\n",
       "      <td>BHK</td>\n",
       "      <td>60.001091</td>\n",
       "      <td>0</td>\n",
       "      <td>1</td>\n",
       "      <td>Hanspuram,Kanpur</td>\n",
       "      <td>80.331110</td>\n",
       "      <td>26.472500</td>\n",
       "      <td>22.0</td>\n",
       "    </tr>\n",
       "    <tr>\n",
       "      <th>20047</th>\n",
       "      <td>Builder</td>\n",
       "      <td>1</td>\n",
       "      <td>1</td>\n",
       "      <td>1</td>\n",
       "      <td>BHK</td>\n",
       "      <td>90.252708</td>\n",
       "      <td>0</td>\n",
       "      <td>0</td>\n",
       "      <td>Roha,Maharashtra</td>\n",
       "      <td>73.114700</td>\n",
       "      <td>18.454300</td>\n",
       "      <td>2.0</td>\n",
       "    </tr>\n",
       "    <tr>\n",
       "      <th>20130</th>\n",
       "      <td>Owner</td>\n",
       "      <td>0</td>\n",
       "      <td>0</td>\n",
       "      <td>1</td>\n",
       "      <td>BHK</td>\n",
       "      <td>31.780067</td>\n",
       "      <td>1</td>\n",
       "      <td>1</td>\n",
       "      <td>Parthala Khanjarpur,Noida</td>\n",
       "      <td>77.400208</td>\n",
       "      <td>28.593122</td>\n",
       "      <td>16.6</td>\n",
       "    </tr>\n",
       "    <tr>\n",
       "      <th>23359</th>\n",
       "      <td>Owner</td>\n",
       "      <td>0</td>\n",
       "      <td>0</td>\n",
       "      <td>1</td>\n",
       "      <td>BHK</td>\n",
       "      <td>37.680696</td>\n",
       "      <td>1</td>\n",
       "      <td>1</td>\n",
       "      <td>Munnu Khera,Lucknow</td>\n",
       "      <td>80.858175</td>\n",
       "      <td>26.823489</td>\n",
       "      <td>16.5</td>\n",
       "    </tr>\n",
       "    <tr>\n",
       "      <th>24016</th>\n",
       "      <td>Owner</td>\n",
       "      <td>0</td>\n",
       "      <td>0</td>\n",
       "      <td>2</td>\n",
       "      <td>BHK</td>\n",
       "      <td>9.397110</td>\n",
       "      <td>1</td>\n",
       "      <td>1</td>\n",
       "      <td>Brajanathchak,Haldia</td>\n",
       "      <td>88.060000</td>\n",
       "      <td>22.030000</td>\n",
       "      <td>32.5</td>\n",
       "    </tr>\n",
       "    <tr>\n",
       "      <th>24059</th>\n",
       "      <td>Owner</td>\n",
       "      <td>0</td>\n",
       "      <td>0</td>\n",
       "      <td>1</td>\n",
       "      <td>BHK</td>\n",
       "      <td>32.000000</td>\n",
       "      <td>1</td>\n",
       "      <td>1</td>\n",
       "      <td>Sector-118 Noida,Noida</td>\n",
       "      <td>77.403693</td>\n",
       "      <td>28.579845</td>\n",
       "      <td>16.0</td>\n",
       "    </tr>\n",
       "    <tr>\n",
       "      <th>25918</th>\n",
       "      <td>Owner</td>\n",
       "      <td>0</td>\n",
       "      <td>0</td>\n",
       "      <td>1</td>\n",
       "      <td>BHK</td>\n",
       "      <td>10.000000</td>\n",
       "      <td>1</td>\n",
       "      <td>1</td>\n",
       "      <td>Punagam,Surat</td>\n",
       "      <td>72.899374</td>\n",
       "      <td>21.216630</td>\n",
       "      <td>8.0</td>\n",
       "    </tr>\n",
       "    <tr>\n",
       "      <th>28658</th>\n",
       "      <td>Builder</td>\n",
       "      <td>1</td>\n",
       "      <td>1</td>\n",
       "      <td>1</td>\n",
       "      <td>BHK</td>\n",
       "      <td>90.252708</td>\n",
       "      <td>0</td>\n",
       "      <td>0</td>\n",
       "      <td>Roha,Raigad</td>\n",
       "      <td>73.114700</td>\n",
       "      <td>18.454300</td>\n",
       "      <td>2.0</td>\n",
       "    </tr>\n",
       "  </tbody>\n",
       "</table>\n",
       "</div>"
      ],
      "text/plain": [
       "      POSTED_BY  UNDER_CONSTRUCTION  RERA  BHK_NO. BHK_OR_RK  SQUARE_FT  \\\n",
       "2079      Owner                   0     0        2       BHK   5.000000   \n",
       "2307      Owner                   0     0        2       BHK  49.800797   \n",
       "2958      Owner                   0     0        3       BHK  99.975006   \n",
       "3242      Owner                   0     0        2       BHK   3.000000   \n",
       "4728      Owner                   0     0        2       BHK  98.000784   \n",
       "9279      Owner                   0     0        1       BHK  54.999450   \n",
       "9702      Owner                   0     0        2       BHK  74.000987   \n",
       "10324     Owner                   0     0        1       BHK  55.000000   \n",
       "10356     Owner                   1     1        2       BHK  70.883870   \n",
       "10566     Owner                   0     0        2       BHK  91.000091   \n",
       "10959     Owner                   0     0        1       BHK  49.000092   \n",
       "12628     Owner                   0     0        1       BHK  80.000000   \n",
       "13555     Owner                   0     0        2       BHK   3.985594   \n",
       "14486     Owner                   0     0        1       BHK  58.001436   \n",
       "14781     Owner                   0     0        4       BHK  45.000191   \n",
       "14913     Owner                   0     0        1       BHK  10.979906   \n",
       "15188     Owner                   0     0        1       BHK  32.000000   \n",
       "16866     Owner                   0     0        2       BHK  80.000000   \n",
       "19769     Owner                   1     0        1       BHK  60.001091   \n",
       "20047   Builder                   1     1        1       BHK  90.252708   \n",
       "20130     Owner                   0     0        1       BHK  31.780067   \n",
       "23359     Owner                   0     0        1       BHK  37.680696   \n",
       "24016     Owner                   0     0        2       BHK   9.397110   \n",
       "24059     Owner                   0     0        1       BHK  32.000000   \n",
       "25918     Owner                   0     0        1       BHK  10.000000   \n",
       "28658   Builder                   1     1        1       BHK  90.252708   \n",
       "\n",
       "       READY_TO_MOVE  RESALE                          ADDRESS  LONGITUDE  \\\n",
       "2079               1       1  Sector-29 Chandigarh,Chandigarh  76.777256   \n",
       "2307               1       1               Civil Lines,Nagpur  79.069531   \n",
       "2958               1       1            Bhatnagar Colony,Jind  76.323316   \n",
       "3242               1       1          industrial area,Hajipur  87.287479   \n",
       "4728               1       1                  Dodhpur,Aligarh  77.782574   \n",
       "9279               1       1   Sector-17 Vasundhara,Ghaziabad  77.355737   \n",
       "9702               1       1                  Baina Vasco,Goa  73.807730   \n",
       "10324              1       1                Govardhan,Mathura  77.465069   \n",
       "10356              0       1                     Sangolda,Goa  73.805282   \n",
       "10566              1       1     Swarna Jayanti Nagar,Aligarh  78.101489   \n",
       "10959              1       1                kakinada,Kakinada  82.240758   \n",
       "12628              1       1                  Nhare Pune,Pune  73.847780   \n",
       "13555              1       1                   Amlidih,Raipur  81.676956   \n",
       "14486              1       1                     Assonora,Goa  73.898600   \n",
       "14781              1       1       Swarn Jayanti Vihar,Kanpur  80.331110   \n",
       "14913              1       1            Ganesh Colony,Jalgaon  75.770559   \n",
       "15188              1       1               Makanpur,Ghaziabad  77.354534   \n",
       "16866              1       1                 Kamla Nagar,Agra  78.026673   \n",
       "19769              0       1                 Hanspuram,Kanpur  80.331110   \n",
       "20047              0       0                 Roha,Maharashtra  73.114700   \n",
       "20130              1       1        Parthala Khanjarpur,Noida  77.400208   \n",
       "23359              1       1              Munnu Khera,Lucknow  80.858175   \n",
       "24016              1       1             Brajanathchak,Haldia  88.060000   \n",
       "24059              1       1           Sector-118 Noida,Noida  77.403693   \n",
       "25918              1       1                    Punagam,Surat  72.899374   \n",
       "28658              0       0                      Roha,Raigad  73.114700   \n",
       "\n",
       "        LATITUDE  TARGET(PRICE_IN_LACS)  \n",
       "2079   30.755000                   45.0  \n",
       "2307   21.152819                   30.0  \n",
       "2958   29.305611                   40.0  \n",
       "3242   23.525713                   12.0  \n",
       "4728   27.244478                   50.0  \n",
       "9279   28.649273                   35.0  \n",
       "9702   15.395220                   39.0  \n",
       "10324  27.494145                   16.5  \n",
       "10356  15.550351                   48.8  \n",
       "10566  27.892383                   30.0  \n",
       "10959  16.979477                   16.0  \n",
       "12628  18.523610                   24.0  \n",
       "13555  21.213822                   24.9  \n",
       "14486  15.618700                   21.0  \n",
       "14781  26.472500                   23.5  \n",
       "14913  21.047939                   27.3  \n",
       "15188  28.636759                   13.0  \n",
       "16866  27.221766                   22.0  \n",
       "19769  26.472500                   22.0  \n",
       "20047  18.454300                    2.0  \n",
       "20130  28.593122                   16.6  \n",
       "23359  26.823489                   16.5  \n",
       "24016  22.030000                   32.5  \n",
       "24059  28.579845                   16.0  \n",
       "25918  21.216630                    8.0  \n",
       "28658  18.454300                    2.0  "
      ]
     },
     "execution_count": 90,
     "metadata": {},
     "output_type": "execute_result"
    }
   ],
   "source": [
    "df_clean[df_clean['SQUARE_FT'] < 100]"
   ]
  },
  {
   "cell_type": "code",
   "execution_count": 91,
   "id": "b5e74366-d270-469d-a9bf-beefff0027d3",
   "metadata": {},
   "outputs": [],
   "source": [
    "df_clean = df_clean[df_clean['SQUARE_FT'] >= 300].reset_index(drop=True)"
   ]
  },
  {
   "cell_type": "code",
   "execution_count": 92,
   "id": "b2f77ddc-dee0-4621-a37f-fedc8cb71276",
   "metadata": {},
   "outputs": [
    {
     "data": {
      "text/html": [
       "<div>\n",
       "<style scoped>\n",
       "    .dataframe tbody tr th:only-of-type {\n",
       "        vertical-align: middle;\n",
       "    }\n",
       "\n",
       "    .dataframe tbody tr th {\n",
       "        vertical-align: top;\n",
       "    }\n",
       "\n",
       "    .dataframe thead th {\n",
       "        text-align: right;\n",
       "    }\n",
       "</style>\n",
       "<table border=\"1\" class=\"dataframe\">\n",
       "  <thead>\n",
       "    <tr style=\"text-align: right;\">\n",
       "      <th></th>\n",
       "      <th>POSTED_BY</th>\n",
       "      <th>UNDER_CONSTRUCTION</th>\n",
       "      <th>RERA</th>\n",
       "      <th>BHK_NO.</th>\n",
       "      <th>BHK_OR_RK</th>\n",
       "      <th>SQUARE_FT</th>\n",
       "      <th>READY_TO_MOVE</th>\n",
       "      <th>RESALE</th>\n",
       "      <th>ADDRESS</th>\n",
       "      <th>LONGITUDE</th>\n",
       "      <th>LATITUDE</th>\n",
       "      <th>TARGET(PRICE_IN_LACS)</th>\n",
       "    </tr>\n",
       "  </thead>\n",
       "  <tbody>\n",
       "    <tr>\n",
       "      <th>0</th>\n",
       "      <td>Owner</td>\n",
       "      <td>0</td>\n",
       "      <td>0</td>\n",
       "      <td>2</td>\n",
       "      <td>BHK</td>\n",
       "      <td>1300.236407</td>\n",
       "      <td>1</td>\n",
       "      <td>1</td>\n",
       "      <td>Ksfc Layout,Bangalore</td>\n",
       "      <td>77.597960</td>\n",
       "      <td>12.969910</td>\n",
       "      <td>55.0</td>\n",
       "    </tr>\n",
       "    <tr>\n",
       "      <th>1</th>\n",
       "      <td>Dealer</td>\n",
       "      <td>0</td>\n",
       "      <td>0</td>\n",
       "      <td>2</td>\n",
       "      <td>BHK</td>\n",
       "      <td>1275.000000</td>\n",
       "      <td>1</td>\n",
       "      <td>1</td>\n",
       "      <td>Vishweshwara Nagar,Mysore</td>\n",
       "      <td>76.644605</td>\n",
       "      <td>12.274538</td>\n",
       "      <td>51.0</td>\n",
       "    </tr>\n",
       "    <tr>\n",
       "      <th>2</th>\n",
       "      <td>Owner</td>\n",
       "      <td>0</td>\n",
       "      <td>0</td>\n",
       "      <td>2</td>\n",
       "      <td>BHK</td>\n",
       "      <td>933.159722</td>\n",
       "      <td>1</td>\n",
       "      <td>1</td>\n",
       "      <td>Jigani,Bangalore</td>\n",
       "      <td>77.632191</td>\n",
       "      <td>12.778033</td>\n",
       "      <td>43.0</td>\n",
       "    </tr>\n",
       "    <tr>\n",
       "      <th>3</th>\n",
       "      <td>Owner</td>\n",
       "      <td>0</td>\n",
       "      <td>1</td>\n",
       "      <td>2</td>\n",
       "      <td>BHK</td>\n",
       "      <td>929.921143</td>\n",
       "      <td>1</td>\n",
       "      <td>1</td>\n",
       "      <td>Sector-1 Vaishali,Ghaziabad</td>\n",
       "      <td>77.344500</td>\n",
       "      <td>28.642300</td>\n",
       "      <td>62.5</td>\n",
       "    </tr>\n",
       "    <tr>\n",
       "      <th>4</th>\n",
       "      <td>Dealer</td>\n",
       "      <td>1</td>\n",
       "      <td>0</td>\n",
       "      <td>2</td>\n",
       "      <td>BHK</td>\n",
       "      <td>999.009247</td>\n",
       "      <td>0</td>\n",
       "      <td>1</td>\n",
       "      <td>New Town,Kolkata</td>\n",
       "      <td>88.484911</td>\n",
       "      <td>22.592200</td>\n",
       "      <td>60.5</td>\n",
       "    </tr>\n",
       "  </tbody>\n",
       "</table>\n",
       "</div>"
      ],
      "text/plain": [
       "  POSTED_BY  UNDER_CONSTRUCTION  RERA  BHK_NO. BHK_OR_RK    SQUARE_FT  \\\n",
       "0     Owner                   0     0        2       BHK  1300.236407   \n",
       "1    Dealer                   0     0        2       BHK  1275.000000   \n",
       "2     Owner                   0     0        2       BHK   933.159722   \n",
       "3     Owner                   0     1        2       BHK   929.921143   \n",
       "4    Dealer                   1     0        2       BHK   999.009247   \n",
       "\n",
       "   READY_TO_MOVE  RESALE                      ADDRESS  LONGITUDE   LATITUDE  \\\n",
       "0              1       1        Ksfc Layout,Bangalore  77.597960  12.969910   \n",
       "1              1       1    Vishweshwara Nagar,Mysore  76.644605  12.274538   \n",
       "2              1       1             Jigani,Bangalore  77.632191  12.778033   \n",
       "3              1       1  Sector-1 Vaishali,Ghaziabad  77.344500  28.642300   \n",
       "4              0       1             New Town,Kolkata  88.484911  22.592200   \n",
       "\n",
       "   TARGET(PRICE_IN_LACS)  \n",
       "0                   55.0  \n",
       "1                   51.0  \n",
       "2                   43.0  \n",
       "3                   62.5  \n",
       "4                   60.5  "
      ]
     },
     "execution_count": 92,
     "metadata": {},
     "output_type": "execute_result"
    }
   ],
   "source": [
    "df_clean.head()"
   ]
  },
  {
   "cell_type": "code",
   "execution_count": 93,
   "id": "c3aa949e-0195-4891-a08e-9db1840ffa78",
   "metadata": {},
   "outputs": [
    {
     "name": "stdout",
     "output_type": "stream",
     "text": [
      "Rows after removing outliers: 27103\n"
     ]
    }
   ],
   "source": [
    "Q1 = df_clean['SQUARE_FT'].quantile(0.25)\n",
    "Q3 = df_clean['SQUARE_FT'].quantile(0.75)\n",
    "IQR = Q3 - Q1\n",
    "\n",
    "df_clean = df_clean[\n",
    "    (df_clean['SQUARE_FT'] >= (Q1 - 1.5 * IQR)) &\n",
    "    (df_clean['SQUARE_FT'] <= (Q3 + 1.5 * IQR))\n",
    "].reset_index(drop=True)\n",
    "\n",
    "print(f\"Rows after removing outliers: {len(df_clean)}\")\n"
   ]
  },
  {
   "cell_type": "code",
   "execution_count": 95,
   "id": "fc8d9ed8-c640-4cd7-bb22-3d728afac095",
   "metadata": {},
   "outputs": [],
   "source": [
    "df_clean.to_csv('DATA/cleaned_data.csv')"
   ]
  },
  {
   "cell_type": "code",
   "execution_count": 96,
   "id": "3616ece1-388c-4fde-b94f-c976ba5e39f7",
   "metadata": {},
   "outputs": [],
   "source": [
    "df_clean[['SQUARE_FT', 'LATITUDE', 'LONGITUDE']] = df_clean[['SQUARE_FT', 'LATITUDE', 'LONGITUDE']].round(2)"
   ]
  },
  {
   "cell_type": "code",
   "execution_count": 98,
   "id": "fbd61b9f-458a-423f-b8bd-890c2902edb6",
   "metadata": {},
   "outputs": [
    {
     "data": {
      "text/html": [
       "<div>\n",
       "<style scoped>\n",
       "    .dataframe tbody tr th:only-of-type {\n",
       "        vertical-align: middle;\n",
       "    }\n",
       "\n",
       "    .dataframe tbody tr th {\n",
       "        vertical-align: top;\n",
       "    }\n",
       "\n",
       "    .dataframe thead th {\n",
       "        text-align: right;\n",
       "    }\n",
       "</style>\n",
       "<table border=\"1\" class=\"dataframe\">\n",
       "  <thead>\n",
       "    <tr style=\"text-align: right;\">\n",
       "      <th></th>\n",
       "      <th>POSTED_BY</th>\n",
       "      <th>UNDER_CONSTRUCTION</th>\n",
       "      <th>RERA</th>\n",
       "      <th>BHK_NO.</th>\n",
       "      <th>BHK_OR_RK</th>\n",
       "      <th>SQUARE_FT</th>\n",
       "      <th>READY_TO_MOVE</th>\n",
       "      <th>RESALE</th>\n",
       "      <th>ADDRESS</th>\n",
       "      <th>LONGITUDE</th>\n",
       "      <th>LATITUDE</th>\n",
       "      <th>TARGET(PRICE_IN_LACS)</th>\n",
       "    </tr>\n",
       "  </thead>\n",
       "  <tbody>\n",
       "    <tr>\n",
       "      <th>0</th>\n",
       "      <td>Owner</td>\n",
       "      <td>0</td>\n",
       "      <td>0</td>\n",
       "      <td>2</td>\n",
       "      <td>BHK</td>\n",
       "      <td>1300.24</td>\n",
       "      <td>1</td>\n",
       "      <td>1</td>\n",
       "      <td>Ksfc Layout,Bangalore</td>\n",
       "      <td>77.60</td>\n",
       "      <td>12.97</td>\n",
       "      <td>55.0</td>\n",
       "    </tr>\n",
       "    <tr>\n",
       "      <th>1</th>\n",
       "      <td>Dealer</td>\n",
       "      <td>0</td>\n",
       "      <td>0</td>\n",
       "      <td>2</td>\n",
       "      <td>BHK</td>\n",
       "      <td>1275.00</td>\n",
       "      <td>1</td>\n",
       "      <td>1</td>\n",
       "      <td>Vishweshwara Nagar,Mysore</td>\n",
       "      <td>76.64</td>\n",
       "      <td>12.27</td>\n",
       "      <td>51.0</td>\n",
       "    </tr>\n",
       "    <tr>\n",
       "      <th>2</th>\n",
       "      <td>Owner</td>\n",
       "      <td>0</td>\n",
       "      <td>0</td>\n",
       "      <td>2</td>\n",
       "      <td>BHK</td>\n",
       "      <td>933.16</td>\n",
       "      <td>1</td>\n",
       "      <td>1</td>\n",
       "      <td>Jigani,Bangalore</td>\n",
       "      <td>77.63</td>\n",
       "      <td>12.78</td>\n",
       "      <td>43.0</td>\n",
       "    </tr>\n",
       "    <tr>\n",
       "      <th>3</th>\n",
       "      <td>Owner</td>\n",
       "      <td>0</td>\n",
       "      <td>1</td>\n",
       "      <td>2</td>\n",
       "      <td>BHK</td>\n",
       "      <td>929.92</td>\n",
       "      <td>1</td>\n",
       "      <td>1</td>\n",
       "      <td>Sector-1 Vaishali,Ghaziabad</td>\n",
       "      <td>77.34</td>\n",
       "      <td>28.64</td>\n",
       "      <td>62.5</td>\n",
       "    </tr>\n",
       "    <tr>\n",
       "      <th>4</th>\n",
       "      <td>Dealer</td>\n",
       "      <td>1</td>\n",
       "      <td>0</td>\n",
       "      <td>2</td>\n",
       "      <td>BHK</td>\n",
       "      <td>999.01</td>\n",
       "      <td>0</td>\n",
       "      <td>1</td>\n",
       "      <td>New Town,Kolkata</td>\n",
       "      <td>88.48</td>\n",
       "      <td>22.59</td>\n",
       "      <td>60.5</td>\n",
       "    </tr>\n",
       "  </tbody>\n",
       "</table>\n",
       "</div>"
      ],
      "text/plain": [
       "  POSTED_BY  UNDER_CONSTRUCTION  RERA  BHK_NO. BHK_OR_RK  SQUARE_FT  \\\n",
       "0     Owner                   0     0        2       BHK    1300.24   \n",
       "1    Dealer                   0     0        2       BHK    1275.00   \n",
       "2     Owner                   0     0        2       BHK     933.16   \n",
       "3     Owner                   0     1        2       BHK     929.92   \n",
       "4    Dealer                   1     0        2       BHK     999.01   \n",
       "\n",
       "   READY_TO_MOVE  RESALE                      ADDRESS  LONGITUDE  LATITUDE  \\\n",
       "0              1       1        Ksfc Layout,Bangalore      77.60     12.97   \n",
       "1              1       1    Vishweshwara Nagar,Mysore      76.64     12.27   \n",
       "2              1       1             Jigani,Bangalore      77.63     12.78   \n",
       "3              1       1  Sector-1 Vaishali,Ghaziabad      77.34     28.64   \n",
       "4              0       1             New Town,Kolkata      88.48     22.59   \n",
       "\n",
       "   TARGET(PRICE_IN_LACS)  \n",
       "0                   55.0  \n",
       "1                   51.0  \n",
       "2                   43.0  \n",
       "3                   62.5  \n",
       "4                   60.5  "
      ]
     },
     "execution_count": 98,
     "metadata": {},
     "output_type": "execute_result"
    }
   ],
   "source": [
    "df_clean.head()"
   ]
  },
  {
   "cell_type": "code",
   "execution_count": 99,
   "id": "94e9fc53-5d6a-4944-bfc0-00dfbf5b0d55",
   "metadata": {},
   "outputs": [],
   "source": [
    "df_clean.to_csv('DATA/cleaned_housing_data.csv')"
   ]
  },
  {
   "cell_type": "code",
   "execution_count": null,
   "id": "05de49fa-d967-4cf5-8f0b-3e7cd7840531",
   "metadata": {},
   "outputs": [],
   "source": []
  }
 ],
 "metadata": {
  "kernelspec": {
   "display_name": "Python 3 (ipykernel)",
   "language": "python",
   "name": "python3"
  },
  "language_info": {
   "codemirror_mode": {
    "name": "ipython",
    "version": 3
   },
   "file_extension": ".py",
   "mimetype": "text/x-python",
   "name": "python",
   "nbconvert_exporter": "python",
   "pygments_lexer": "ipython3",
   "version": "3.13.5"
  }
 },
 "nbformat": 4,
 "nbformat_minor": 5
}
